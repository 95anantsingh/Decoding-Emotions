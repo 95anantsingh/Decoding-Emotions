{
 "cells": [
  {
   "attachments": {},
   "cell_type": "markdown",
   "metadata": {},
   "source": [
    "# Job Scheduler"
   ]
  },
  {
   "cell_type": "code",
   "execution_count": 42,
   "metadata": {},
   "outputs": [],
   "source": [
    "import os"
   ]
  },
  {
   "attachments": {},
   "cell_type": "markdown",
   "metadata": {},
   "source": [
    "### Setup Directories"
   ]
  },
  {
   "cell_type": "code",
   "execution_count": 44,
   "metadata": {},
   "outputs": [],
   "source": [
    "base_dir = '/home/as14229/NYU_HPC/Multilingual-Speech-Emotion-Recognition-System/jobs/'\n",
    "\n",
    "jobs_dir = os.path.join(base_dir,'sbatch')\n",
    "logs_base_dir = os.path.join(base_dir,'logs')\n",
    "batch_number = max([int(d.split('_')[-1]) for d in os.listdir(logs_base_dir)])\n",
    "logs_dir = os.path.join(logs_base_dir,f'batch_{batch_number+1}')\n",
    "\n",
    "scripts_dir = os.path.join(base_dir,'scripts')\n",
    "\n",
    "os.makedirs(jobs_dir,exist_ok=True)\n",
    "os.makedirs(logs_dir,exist_ok=True)\n",
    "os.makedirs(scripts_dir,exist_ok=True)"
   ]
  },
  {
   "attachments": {},
   "cell_type": "markdown",
   "metadata": {},
   "source": [
    "### Delete Old Jobs"
   ]
  },
  {
   "cell_type": "code",
   "execution_count": 45,
   "metadata": {},
   "outputs": [],
   "source": [
    "# if os.path.exists(jobs_dir): \n",
    "#     os.system(f'rm -rf {jobs_dir}/*')\n",
    "#     os.system(f'rm -rf {logs_dir}/*')"
   ]
  },
  {
   "attachments": {},
   "cell_type": "markdown",
   "metadata": {},
   "source": [
    "### Setup Main Command"
   ]
  },
  {
   "cell_type": "code",
   "execution_count": 46,
   "metadata": {},
   "outputs": [],
   "source": [
    "time_per_job = \"3:00:00\"        # Time per job\n",
    "memory_required = 128           # RAM required in GB\n",
    "\n",
    "sbatch_header = f\"#!/bin/bash\\n\\\n",
    "\\n\\\n",
    "#SBATCH --nodes=1               \\n\\\n",
    "#SBATCH --ntasks-per-node=1     \\n\\\n",
    "#SBATCH --cpus-per-task=4       \\n\\\n",
    "#SBATCH --time={time_per_job}          \\n\\\n",
    "#SBATCH --mem={memory_required}GB              \\n\\\n",
    "#SBATCH --gres=gpu:1       \\n\"\n",
    "\n",
    "job_name_directive =  \"#SBATCH --job-name=Job\"\n",
    "output_file_directive = \"#SBATCH --output=\"+logs_dir+'/job'\n",
    "\n",
    "command_header = \"\\nmodule purge\\n\\\n",
    "source ~/.bashrc\\n\\\n",
    "conda activate NLP_Nightly\\n\\\n",
    "cd /home/as14229/NYU_HPC/Multilingual-Speech-Emotion-Recognition-System/\\n\\n\"\n",
    "\n",
    "# Main Commmand\n",
    "command = \"python main.py -ll debug -em disk\""
   ]
  },
  {
   "cell_type": "markdown",
   "metadata": {},
   "source": [
    "### Get all Jobs"
   ]
  },
  {
   "cell_type": "code",
   "execution_count": 47,
   "metadata": {},
   "outputs": [],
   "source": [
    "runs = ['Run1','Run2','Run3','Run4','Run5']\n",
    "# ['AESDD','CaFE','EmoDB','EMOVO','IEMOCAP','RAVDESS','ShEMO']\n",
    "datasets = ['AESDD']#,'CaFE','EmoDB','EMOVO','IEMOCAP','RAVDESS','ShEMO']\n",
    "# ['GE2E','WAV2VEC2_BASE','WAV2VEC2_BASE','WAV2VEC2_LARGE','WAV2VEC2_BASE_XLSR','WAV2VEC2_LARGE_XLSR','HUBERT_BASE','HUBERT_LARGE','GE2E']\n",
    "models = ['WAV2VEC2_BASE','WAV2VEC2_LARGE','WAV2VEC2_BASE_XLSR','WAV2VEC2_LARGE_XLSR','HUBERT_BASE','HUBERT_LARGE','GE2E']\n",
    "\n",
    "\n",
    "jobs = []\n",
    "for run in runs:\n",
    "    for dataset in datasets:\n",
    "        for model in models:            \n",
    "            jobs.append(f'{command} -d {dataset} -m {model} -r {run}\\n')"
   ]
  },
  {
   "attachments": {},
   "cell_type": "markdown",
   "metadata": {},
   "source": [
    "### Make SBATCH Files"
   ]
  },
  {
   "cell_type": "code",
   "execution_count": 48,
   "metadata": {},
   "outputs": [],
   "source": [
    "jobs_per_gpu = 1                # Number of jobs per GPU\n",
    "# Make sbatch files\n",
    "for i,j in enumerate(range(0,len(jobs),jobs_per_gpu),1):\n",
    "    with open(os.path.join(jobs_dir,'job'+str(i)+'.sbatch'),'w') as file:\n",
    "        file.write(sbatch_header)\n",
    "        file.write(job_name_directive+str(i)+'\\n')\n",
    "        file.write(output_file_directive+str(i)+'.log\\n')\n",
    "        file.write(command_header)\n",
    "        for k in range(j,j+jobs_per_gpu):\n",
    "            file.write(jobs[k])\n"
   ]
  },
  {
   "attachments": {},
   "cell_type": "markdown",
   "metadata": {},
   "source": [
    "### Make Schedule File"
   ]
  },
  {
   "cell_type": "code",
   "execution_count": 49,
   "metadata": {},
   "outputs": [],
   "source": [
    "schedule_file = os.path.join(scripts_dir,'schedule_jobs.sh')\n",
    "with open(schedule_file,'w') as file:\n",
    "    file.write('#!/bin/bash\\n\\n')\n",
    "    for k in range(1,i+1):\n",
    "        file.write('sbatch '+jobs_dir+'/job'+str(k)+'.sbatch\\n')\n",
    "os.chmod(schedule_file, 0o740)"
   ]
  },
  {
   "attachments": {},
   "cell_type": "markdown",
   "metadata": {},
   "source": [
    "### Make Cancel File"
   ]
  },
  {
   "cell_type": "code",
   "execution_count": 50,
   "metadata": {},
   "outputs": [],
   "source": [
    "cancel_file = os.path.join(scripts_dir,'cancel_jobs.sh')\n",
    "base_command = \"scancel $(sacct -n -X --format jobid --name\"\n",
    "with open(cancel_file,'w') as file:\n",
    "    file.write('#!/bin/bash\\n\\n')\n",
    "    for k in range(1,i+1):\n",
    "        file.write(base_command+' Job'+str(k)+')\\n')\n",
    "os.chmod(cancel_file, 0o740)"
   ]
  },
  {
   "cell_type": "markdown",
   "metadata": {},
   "source": [
    "### Launch Jobs"
   ]
  },
  {
   "cell_type": "code",
   "execution_count": 51,
   "metadata": {},
   "outputs": [
    {
     "name": "stdout",
     "output_type": "stream",
     "text": [
      "Submitted batch job 30567799\n",
      "Submitted batch job 30567800\n",
      "Submitted batch job 30567801\n",
      "Submitted batch job 30567802\n",
      "Submitted batch job 30567803\n"
     ]
    },
    {
     "data": {
      "text/plain": [
       "0"
      ]
     },
     "execution_count": 51,
     "metadata": {},
     "output_type": "execute_result"
    }
   ],
   "source": [
    "os.system(f'bash {schedule_file}')"
   ]
  },
  {
   "attachments": {},
   "cell_type": "markdown",
   "metadata": {},
   "source": [
    "### Cancel Jobs"
   ]
  },
  {
   "cell_type": "code",
   "execution_count": 24,
   "metadata": {},
   "outputs": [
    {
     "data": {
      "text/plain": [
       "0"
      ]
     },
     "execution_count": 24,
     "metadata": {},
     "output_type": "execute_result"
    }
   ],
   "source": [
    "os.system(f'bash {cancel_file}')"
   ]
  },
  {
   "attachments": {},
   "cell_type": "markdown",
   "metadata": {},
   "source": [
    "### Get Running Jobs"
   ]
  },
  {
   "cell_type": "code",
   "execution_count": null,
   "metadata": {},
   "outputs": [],
   "source": [
    "os.system('squeue -u $USER -t running')"
   ]
  },
  {
   "attachments": {},
   "cell_type": "markdown",
   "metadata": {},
   "source": [
    "### Get Pending Jobs"
   ]
  },
  {
   "cell_type": "code",
   "execution_count": 33,
   "metadata": {},
   "outputs": [
    {
     "name": "stdout",
     "output_type": "stream",
     "text": [
      "             JOBID PARTITION     NAME     USER ST       TIME  NODES NODELIST(REASON)\n",
      "          30565575 rtx8000,v    Job49  as14229 PD       0:00      1 (Priority)\n",
      "          30565574 rtx8000,v    Job48  as14229 PD       0:00      1 (Priority)\n",
      "          30565573 rtx8000,v    Job47  as14229 PD       0:00      1 (Priority)\n",
      "          30565572 rtx8000,v    Job46  as14229 PD       0:00      1 (Priority)\n",
      "          30565571 rtx8000,v    Job45  as14229 PD       0:00      1 (Priority)\n",
      "          30565570 rtx8000,v    Job44  as14229 PD       0:00      1 (Priority)\n",
      "          30565569 rtx8000,v    Job43  as14229 PD       0:00      1 (Priority)\n",
      "          30565568 rtx8000,v    Job42  as14229 PD       0:00      1 (Priority)\n",
      "          30565567 rtx8000,v    Job41  as14229 PD       0:00      1 (Priority)\n",
      "          30565566 rtx8000,v    Job40  as14229 PD       0:00      1 (Priority)\n",
      "          30565565 rtx8000,v    Job39  as14229 PD       0:00      1 (Priority)\n",
      "          30565564 rtx8000,v    Job38  as14229 PD       0:00      1 (Priority)\n",
      "          30565563 rtx8000,v    Job37  as14229 PD       0:00      1 (Priority)\n",
      "          30565562 rtx8000,v    Job36  as14229 PD       0:00      1 (Priority)\n",
      "          30565561 rtx8000,v    Job35  as14229 PD       0:00      1 (Priority)\n",
      "          30565560 rtx8000,v    Job34  as14229 PD       0:00      1 (Priority)\n",
      "          30565559 rtx8000,v    Job33  as14229 PD       0:00      1 (Priority)\n",
      "          30565558 rtx8000,v    Job32  as14229 PD       0:00      1 (Priority)\n",
      "          30565557 rtx8000,v    Job31  as14229 PD       0:00      1 (Priority)\n",
      "          30565556 rtx8000,v    Job30  as14229 PD       0:00      1 (Priority)\n",
      "          30565555 rtx8000,v    Job29  as14229 PD       0:00      1 (Priority)\n",
      "          30565554 rtx8000,v    Job28  as14229 PD       0:00      1 (Priority)\n",
      "          30565553 rtx8000,v    Job27  as14229 PD       0:00      1 (Priority)\n",
      "          30565552 rtx8000,v    Job26  as14229 PD       0:00      1 (Priority)\n",
      "          30565551 rtx8000,v    Job25  as14229 PD       0:00      1 (Priority)\n",
      "          30565550 rtx8000,v    Job24  as14229 PD       0:00      1 (Priority)\n",
      "          30565549 rtx8000,v    Job23  as14229 PD       0:00      1 (Priority)\n",
      "          30565548 rtx8000,v    Job22  as14229 PD       0:00      1 (Priority)\n",
      "          30565547 rtx8000,v    Job21  as14229 PD       0:00      1 (Priority)\n",
      "          30565546 rtx8000,v    Job20  as14229 PD       0:00      1 (Priority)\n",
      "          30565545 rtx8000,v    Job19  as14229 PD       0:00      1 (Priority)\n",
      "          30565544 rtx8000,v    Job18  as14229 PD       0:00      1 (Priority)\n",
      "          30565543 rtx8000,v    Job17  as14229 PD       0:00      1 (Priority)\n",
      "          30565542 rtx8000,v    Job16  as14229 PD       0:00      1 (Priority)\n",
      "          30565541 rtx8000,v    Job15  as14229 PD       0:00      1 (Priority)\n",
      "          30565540 rtx8000,v    Job14  as14229 PD       0:00      1 (Priority)\n",
      "          30565539 rtx8000,v    Job13  as14229 PD       0:00      1 (Priority)\n",
      "          30565538 rtx8000,v    Job12  as14229 PD       0:00      1 (Priority)\n",
      "          30565537 rtx8000,v    Job11  as14229 PD       0:00      1 (Priority)\n",
      "          30565536 rtx8000,v    Job10  as14229 PD       0:00      1 (Priority)\n",
      "          30565535 rtx8000,v     Job9  as14229 PD       0:00      1 (Priority)\n",
      "          30565534 rtx8000,v     Job8  as14229 PD       0:00      1 (Priority)\n",
      "          30565533 rtx8000,v     Job7  as14229 PD       0:00      1 (Priority)\n",
      "          30565532 rtx8000,v     Job6  as14229 PD       0:00      1 (Priority)\n",
      "          30565531 rtx8000,v     Job5  as14229 PD       0:00      1 (Priority)\n",
      "          30565530 rtx8000,v     Job4  as14229 PD       0:00      1 (Priority)\n",
      "          30565529 rtx8000,v     Job3  as14229 PD       0:00      1 (Priority)\n",
      "          30565528 rtx8000,v     Job2  as14229 PD       0:00      1 (Priority)\n",
      "          30565527 rtx8000,v     Job1  as14229 PD       0:00      1 (Priority)\n"
     ]
    },
    {
     "data": {
      "text/plain": [
       "0"
      ]
     },
     "execution_count": 33,
     "metadata": {},
     "output_type": "execute_result"
    }
   ],
   "source": [
    "os.system('squeue -u $USER -t pending')"
   ]
  },
  {
   "cell_type": "code",
   "execution_count": 34,
   "metadata": {},
   "outputs": [
    {
     "name": "stdout",
     "output_type": "stream",
     "text": [
      "\n"
     ]
    }
   ],
   "source": [
    "import torch\n",
    "hs = torch.load('/home/as14229/NYU_HPC/Multilingual-Speech-Emotion-Recognition-System/history/v1.1/CaFE/GE2E/Run1/history.pt')\n",
    "print()"
   ]
  }
 ],
 "metadata": {
  "kernelspec": {
   "display_name": "MSERS",
   "language": "python",
   "name": "python3"
  },
  "language_info": {
   "codemirror_mode": {
    "name": "ipython",
    "version": 3
   },
   "file_extension": ".py",
   "mimetype": "text/x-python",
   "name": "python",
   "nbconvert_exporter": "python",
   "pygments_lexer": "ipython3",
   "version": "3.8.0"
  },
  "orig_nbformat": 4,
  "vscode": {
   "interpreter": {
    "hash": "edf93a12d1b5ae7990448df3fb6c693d48c5ca93c427a6f205fa1a1fadc791bd"
   }
  }
 },
 "nbformat": 4,
 "nbformat_minor": 2
}
