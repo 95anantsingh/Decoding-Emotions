{
 "cells": [
  {
   "attachments": {},
   "cell_type": "markdown",
   "metadata": {},
   "source": [
    "# Job Scheduler"
   ]
  },
  {
   "cell_type": "code",
   "execution_count": 3,
   "metadata": {},
   "outputs": [],
   "source": [
    "import os"
   ]
  },
  {
   "attachments": {},
   "cell_type": "markdown",
   "metadata": {},
   "source": [
    "### Setup Directories"
   ]
  },
  {
   "cell_type": "code",
   "execution_count": 4,
   "metadata": {},
   "outputs": [],
   "source": [
    "base_dir = '/home/as14229/NYU_HPC/Multilingual-Speech-Emotion-Recognition-System/jobs/'\n",
    "jobs_dir = os.path.join(base_dir,'sbatch')\n",
    "logs_base_dir = os.path.join(base_dir,'logs')\n",
    "os.makedirs(logs_base_dir,exist_ok=True)\n",
    "\n",
    "batch_number = max([int(d.split('_')[-1]) for d in os.listdir(logs_base_dir)]+[1])\n",
    "logs_dir = os.path.join(logs_base_dir,f'batch_{batch_number}')\n",
    "os.makedirs(logs_dir,exist_ok=True)\n",
    "\n",
    "if len(os.listdir(logs_dir))!=0:\n",
    "    logs_dir = os.path.join(logs_base_dir,f'batch_{batch_number+1}')\n",
    "\n",
    "scripts_dir = os.path.join(base_dir,'scripts')\n",
    "\n",
    "os.makedirs(jobs_dir,exist_ok=True)\n",
    "os.makedirs(logs_dir,exist_ok=True)\n",
    "os.makedirs(scripts_dir,exist_ok=True)"
   ]
  },
  {
   "attachments": {},
   "cell_type": "markdown",
   "metadata": {},
   "source": [
    "### Setup Main Command"
   ]
  },
  {
   "cell_type": "code",
   "execution_count": 12,
   "metadata": {},
   "outputs": [],
   "source": [
    "sbatch_header = f\"#!/bin/bash\\n\\\n",
    "\\n\\\n",
    "#SBATCH --nodes=1               \\n\\\n",
    "#SBATCH --ntasks-per-node=1     \\n\\\n",
    "#SBATCH --gres=gpu:1            \\n\"\n",
    "\n",
    "# partition list - sinfo -s\n",
    "\n",
    "job_name_directive =  \"#SBATCH --job-name=Job\"\n",
    "output_file_directive = \"#SBATCH --output=\"+logs_dir+'/job'\n",
    "\n",
    "command_header = \"\\n\\\n",
    "source ~/.bashrc\\n\\\n",
    "conda activate MSERS\\n\\\n",
    "cd /home/as14229/NYU_HPC/Multilingual-Speech-Emotion-Recognition-System/\\n\\n\"\n",
    "\n",
    "# Main Commmand\n",
    "command = \"python main.py -ll debug -em gpu_memory -nw 3 -cm PROBING -e 50 \"\n",
    "\n",
    "# RAM required in GB\n",
    "memory_required_per_task = 100\n",
    "\n",
    "# job_params = dict(\n",
    "#     time = {\n",
    "#         'AESDD':'00:20:00','CaFE':'00:30:00',\n",
    "#         'EmoDB':'00:20:00','EMOVO':'00:20:00',\n",
    "#         'IEMOCAP':'04:00:00','RAVDESS':'00:30:00',\n",
    "#         'ShEMO':'02:45:00'},       # Time per job\n",
    "#     # mem = '128GB', )               # RAM required in GB\n",
    "#     partition = 'a100_1,a100_2,rtx8000')\n",
    "\n",
    "job_params = dict(\n",
    "    time = {\n",
    "        'AESDD':'00:30:00','CaFE':'00:40:00',\n",
    "        'EmoDB':'00:30:00','EMOVO':'00:30:00',\n",
    "        'IEMOCAP':'07:00:00','RAVDESS':'00:40:00',\n",
    "        'ShEMO':'05:00:00'},       # Time per job\n",
    "    # mem = '128GB', )               # RAM required in GB\n",
    "    partition = 'a100_1,a100_2,rtx8000')\n",
    "\n",
    "# for param,val in job_params.items():\n",
    "#     sbatch_header+=f'#SBATCH --{param}={val}\\n'\n",
    "sbatch_header+=f'#SBATCH --partition={job_params[\"partition\"]}\\n'"
   ]
  },
  {
   "cell_type": "markdown",
   "metadata": {},
   "source": [
    "### Get all Jobs"
   ]
  },
  {
   "cell_type": "code",
   "execution_count": 13,
   "metadata": {},
   "outputs": [],
   "source": [
    "# ['Run1','Run2','Run3','Run4','Run5']\n",
    "runs = ['Run1','Run2','Run3','Run4','Run5']\n",
    "# ['AESDD','CaFE','EmoDB','EMOVO','IEMOCAP','RAVDESS','ShEMO']\n",
    "datasets = ['AESDD','CaFE','EmoDB','EMOVO','IEMOCAP','RAVDESS','ShEMO']\n",
    "# ['GE2E','WAV2VEC2_BASE','WAV2VEC2_LARGE','WAV2VEC2_LARGE_XLSR','WAV2VEC2_LARGE_XLSR300M','HUBERT_BASE','HUBERT_LARGE','WAV2VEC2_ASR_LARGE_960H', 'HUBERT_ASR_LARGE']\n",
    "models = ['WAV2VEC2_ASR_LARGE_960H', 'HUBERT_ASR_LARGE']\n",
    "\n",
    "# sbatch_header+=f'#SBATCH --cpus-per-task={len(runs)}\\n'\n",
    "# sbatch_header+=f'#SBATCH --mem={min(250,memory_required_per_task*len(runs))}GB\\n'\n",
    "\n",
    "sbatch_header+=f'#SBATCH --cpus-per-task=4\\n'\n",
    "sbatch_header+=f'#SBATCH --mem={memory_required_per_task}GB\\n'\n",
    "\n",
    "jobs = []\n",
    "times = []\n",
    "for run in runs:\n",
    "    for dataset in datasets:\n",
    "        for model in models:            \n",
    "            # c = f'{command} -d {dataset} -m {model} -r '\n",
    "            # for run in runs: c+=f' {run}'\n",
    "            # jobs.append(c)\n",
    "            times.append(f'#SBATCH --time={job_params[\"time\"][dataset]}\\n')\n",
    "            jobs.append(f'{command} -d {dataset} -fm {model} -r {run}')\n",
    "# print(sorted([int(m.split('.')[0][3:]) for m in os.listdir('sbatch')])[-1]+1)"
   ]
  },
  {
   "attachments": {},
   "cell_type": "markdown",
   "metadata": {},
   "source": [
    "### Make SBATCH Files"
   ]
  },
  {
   "cell_type": "code",
   "execution_count": 14,
   "metadata": {},
   "outputs": [],
   "source": [
    "job_start_number = sorted([int(m.split('.')[0][3:]) for m in os.listdir('sbatch')])[-1]+1\n",
    "# job_start_number = 1\n",
    "\n",
    "# Number of jobs per GPU\n",
    "jobs_per_gpu = 1\n",
    "# Make sbatch files\n",
    "for i,j in enumerate(range(0,len(jobs),jobs_per_gpu),job_start_number):\n",
    "    with open(os.path.join(jobs_dir,'job'+str(i)+'.sbatch'),'w') as file:\n",
    "        file.write(sbatch_header+ times[j])\n",
    "        file.write(job_name_directive+str(i)+'\\n')\n",
    "        file.write(output_file_directive+str(i)+'.log\\n')\n",
    "        file.write(command_header)\n",
    "        for k in range(j,j+jobs_per_gpu):\n",
    "            jobs[k] += f' -jn Job{i}'\n",
    "            file.write(jobs[k])"
   ]
  },
  {
   "attachments": {},
   "cell_type": "markdown",
   "metadata": {},
   "source": [
    "### Make Schedule File"
   ]
  },
  {
   "cell_type": "code",
   "execution_count": 15,
   "metadata": {},
   "outputs": [],
   "source": [
    "to = sorted([int(m.split('.')[0][3:]) for m in os.listdir('sbatch')])[-1]\n",
    "from_ = sorted([int(m.split('.')[0][3:]) for m in os.listdir('sbatch')])[0]\n",
    "\n",
    "schedule_file = os.path.join(scripts_dir,'schedule_jobs.sh')\n",
    "with open(schedule_file,'w') as file:\n",
    "    file.write('#!/bin/bash\\n\\n')\n",
    "    for k in range(from_,to+1):\n",
    "        file.write('sbatch '+jobs_dir+'/job'+str(k)+'.sbatch\\n')\n",
    "os.chmod(schedule_file, 0o740)"
   ]
  },
  {
   "attachments": {},
   "cell_type": "markdown",
   "metadata": {},
   "source": [
    "### Make Cancel File"
   ]
  },
  {
   "cell_type": "code",
   "execution_count": 16,
   "metadata": {},
   "outputs": [],
   "source": [
    "to = sorted([int(m.split('.')[0][3:]) for m in os.listdir('sbatch')])[-1]\n",
    "from_ = sorted([int(m.split('.')[0][3:]) for m in os.listdir('sbatch')])[0]\n",
    "\n",
    "cancel_file = os.path.join(scripts_dir,'cancel_jobs.sh')\n",
    "base_command = \"scancel $(sacct -n -X --format jobid --name\"\n",
    "with open(cancel_file,'w') as file:\n",
    "    file.write('#!/bin/bash\\n\\n')\n",
    "    for k in range(from_,to+1):\n",
    "        file.write(base_command+' Job'+str(k)+')\\n')\n",
    "os.chmod(cancel_file, 0o740)"
   ]
  },
  {
   "attachments": {},
   "cell_type": "markdown",
   "metadata": {},
   "source": [
    "---"
   ]
  },
  {
   "cell_type": "markdown",
   "metadata": {},
   "source": [
    "### Launch Jobs"
   ]
  },
  {
   "cell_type": "code",
   "execution_count": 17,
   "metadata": {},
   "outputs": [
    {
     "name": "stdout",
     "output_type": "stream",
     "text": [
      "Submitted batch job 31168322\n",
      "Submitted batch job 31168323\n",
      "Submitted batch job 31168324\n",
      "Submitted batch job 31168325\n",
      "Submitted batch job 31168326\n",
      "Submitted batch job 31168327\n",
      "Submitted batch job 31168328\n",
      "Submitted batch job 31168329\n",
      "Submitted batch job 31168330\n",
      "Submitted batch job 31168331\n",
      "Submitted batch job 31168332\n",
      "Submitted batch job 31168333\n",
      "Submitted batch job 31168334\n",
      "Submitted batch job 31168335\n",
      "Submitted batch job 31168336\n",
      "Submitted batch job 31168337\n",
      "Submitted batch job 31168338\n",
      "Submitted batch job 31168339\n",
      "Submitted batch job 31168340\n",
      "Submitted batch job 31168341\n",
      "Submitted batch job 31168342\n",
      "Submitted batch job 31168343\n",
      "Submitted batch job 31168344\n",
      "Submitted batch job 31168345\n",
      "Submitted batch job 31168346\n",
      "Submitted batch job 31168347\n",
      "Submitted batch job 31168348\n",
      "Submitted batch job 31168349\n",
      "Submitted batch job 31168350\n",
      "Submitted batch job 31168351\n",
      "Submitted batch job 31168352\n",
      "Submitted batch job 31168353\n",
      "Submitted batch job 31168354\n",
      "Submitted batch job 31168355\n",
      "Submitted batch job 31168356\n",
      "Submitted batch job 31168357\n",
      "Submitted batch job 31168358\n",
      "Submitted batch job 31168359\n",
      "Submitted batch job 31168360\n",
      "Submitted batch job 31168361\n",
      "Submitted batch job 31168362\n",
      "Submitted batch job 31168363\n",
      "Submitted batch job 31168364\n",
      "Submitted batch job 31168365\n",
      "Submitted batch job 31168366\n",
      "Submitted batch job 31168367\n",
      "Submitted batch job 31168368\n",
      "Submitted batch job 31168369\n",
      "Submitted batch job 31168370\n",
      "Submitted batch job 31168371\n",
      "Submitted batch job 31168372\n",
      "Submitted batch job 31168373\n",
      "Submitted batch job 31168374\n",
      "Submitted batch job 31168375\n",
      "Submitted batch job 31168376\n",
      "Submitted batch job 31168377\n",
      "Submitted batch job 31168378\n",
      "Submitted batch job 31168379\n",
      "Submitted batch job 31168380\n",
      "Submitted batch job 31168381\n",
      "Submitted batch job 31168382\n",
      "Submitted batch job 31168383\n",
      "Submitted batch job 31168384\n",
      "Submitted batch job 31168385\n",
      "Submitted batch job 31168386\n",
      "Submitted batch job 31168387\n",
      "Submitted batch job 31168388\n",
      "Submitted batch job 31168389\n",
      "Submitted batch job 31168390\n",
      "Submitted batch job 31168391\n",
      "Submitted batch job 31168392\n",
      "Submitted batch job 31168393\n",
      "Submitted batch job 31168394\n",
      "Submitted batch job 31168395\n",
      "Submitted batch job 31168396\n",
      "Submitted batch job 31168397\n",
      "Submitted batch job 31168398\n",
      "Submitted batch job 31168399\n",
      "Submitted batch job 31168400\n",
      "Submitted batch job 31168401\n",
      "Submitted batch job 31168402\n",
      "Submitted batch job 31168403\n",
      "Submitted batch job 31168404\n",
      "Submitted batch job 31168405\n",
      "Submitted batch job 31168406\n",
      "Submitted batch job 31168407\n",
      "Submitted batch job 31168408\n",
      "Submitted batch job 31168409\n",
      "Submitted batch job 31168410\n",
      "Submitted batch job 31168411\n",
      "Submitted batch job 31168412\n",
      "Submitted batch job 31168413\n",
      "Submitted batch job 31168414\n",
      "Submitted batch job 31168415\n",
      "Submitted batch job 31168416\n",
      "Submitted batch job 31168417\n",
      "Submitted batch job 31168418\n",
      "Submitted batch job 31168419\n",
      "Submitted batch job 31168420\n",
      "Submitted batch job 31168421\n",
      "Submitted batch job 31168422\n",
      "Submitted batch job 31168423\n",
      "Submitted batch job 31168424\n",
      "Submitted batch job 31168425\n",
      "Submitted batch job 31168426\n",
      "Submitted batch job 31168427\n",
      "Submitted batch job 31168428\n",
      "Submitted batch job 31168429\n",
      "Submitted batch job 31168430\n",
      "Submitted batch job 31168431\n",
      "Submitted batch job 31168432\n",
      "Submitted batch job 31168433\n",
      "Submitted batch job 31168434\n",
      "Submitted batch job 31168435\n",
      "Submitted batch job 31168436\n",
      "Submitted batch job 31168437\n",
      "Submitted batch job 31168438\n",
      "Submitted batch job 31168439\n",
      "Submitted batch job 31168440\n",
      "Submitted batch job 31168441\n",
      "Submitted batch job 31168442\n",
      "Submitted batch job 31168443\n",
      "Submitted batch job 31168444\n",
      "Submitted batch job 31168445\n",
      "Submitted batch job 31168446\n",
      "Submitted batch job 31168447\n",
      "Submitted batch job 31168448\n",
      "Submitted batch job 31168449\n",
      "Submitted batch job 31168450\n",
      "Submitted batch job 31168451\n",
      "Submitted batch job 31168452\n",
      "Submitted batch job 31168453\n",
      "Submitted batch job 31168454\n",
      "Submitted batch job 31168455\n",
      "Submitted batch job 31168456\n",
      "Submitted batch job 31168457\n",
      "Submitted batch job 31168458\n",
      "Submitted batch job 31168459\n",
      "Submitted batch job 31168460\n",
      "Submitted batch job 31168461\n",
      "Submitted batch job 31168462\n",
      "Submitted batch job 31168463\n",
      "Submitted batch job 31168464\n",
      "Submitted batch job 31168465\n",
      "Submitted batch job 31168466\n",
      "Submitted batch job 31168467\n",
      "Submitted batch job 31168468\n",
      "Submitted batch job 31168469\n",
      "Submitted batch job 31168470\n",
      "Submitted batch job 31168471\n",
      "Submitted batch job 31168472\n",
      "Submitted batch job 31168473\n",
      "Submitted batch job 31168474\n",
      "Submitted batch job 31168475\n",
      "Submitted batch job 31168476\n",
      "Submitted batch job 31168477\n",
      "Submitted batch job 31168478\n",
      "Submitted batch job 31168479\n",
      "Submitted batch job 31168480\n",
      "Submitted batch job 31168481\n",
      "Submitted batch job 31168482\n",
      "Submitted batch job 31168483\n",
      "Submitted batch job 31168484\n",
      "Submitted batch job 31168485\n",
      "Submitted batch job 31168486\n",
      "Submitted batch job 31168487\n",
      "Submitted batch job 31168488\n",
      "Submitted batch job 31168489\n",
      "Submitted batch job 31168490\n",
      "Submitted batch job 31168491\n",
      "Submitted batch job 31168492\n",
      "Submitted batch job 31168493\n",
      "Submitted batch job 31168494\n",
      "Submitted batch job 31168495\n",
      "Submitted batch job 31168496\n",
      "Submitted batch job 31168497\n",
      "Submitted batch job 31168498\n",
      "Submitted batch job 31168499\n",
      "Submitted batch job 31168500\n",
      "Submitted batch job 31168501\n",
      "Submitted batch job 31168502\n",
      "Submitted batch job 31168503\n",
      "Submitted batch job 31168504\n",
      "Submitted batch job 31168505\n",
      "Submitted batch job 31168506\n",
      "Submitted batch job 31168507\n",
      "Submitted batch job 31168508\n",
      "Submitted batch job 31168509\n",
      "Submitted batch job 31168510\n",
      "Submitted batch job 31168511\n",
      "Submitted batch job 31168512\n",
      "Submitted batch job 31168513\n",
      "Submitted batch job 31168514\n",
      "Submitted batch job 31168515\n",
      "Submitted batch job 31168516\n",
      "Submitted batch job 31168517\n",
      "Submitted batch job 31168518\n",
      "Submitted batch job 31168519\n",
      "Submitted batch job 31168520\n",
      "Submitted batch job 31168521\n",
      "Submitted batch job 31168522\n",
      "Submitted batch job 31168523\n",
      "Submitted batch job 31168524\n",
      "Submitted batch job 31168525\n",
      "Submitted batch job 31168526\n",
      "Submitted batch job 31168527\n",
      "Submitted batch job 31168528\n",
      "Submitted batch job 31168529\n",
      "Submitted batch job 31168530\n",
      "Submitted batch job 31168531\n"
     ]
    },
    {
     "data": {
      "text/plain": [
       "0"
      ]
     },
     "execution_count": 17,
     "metadata": {},
     "output_type": "execute_result"
    }
   ],
   "source": [
    "base_dir = '/home/as14229/NYU_HPC/Multilingual-Speech-Emotion-Recognition-System/jobs/'\n",
    "scripts_dir = os.path.join(base_dir,'scripts')\n",
    "schedule_file = os.path.join(scripts_dir,'schedule_jobs.sh')\n",
    "# os.system(f'rm -rf {logs_dir}/*')\n",
    "os.system(f'bash {schedule_file}')"
   ]
  },
  {
   "attachments": {},
   "cell_type": "markdown",
   "metadata": {},
   "source": [
    "### Cancel Jobs"
   ]
  },
  {
   "cell_type": "code",
   "execution_count": 4,
   "metadata": {},
   "outputs": [
    {
     "data": {
      "text/plain": [
       "0"
      ]
     },
     "execution_count": 4,
     "metadata": {},
     "output_type": "execute_result"
    }
   ],
   "source": [
    "base_dir = '/home/as14229/NYU_HPC/Multilingual-Speech-Emotion-Recognition-System/jobs/'\n",
    "scripts_dir = os.path.join(base_dir,'scripts')\n",
    "cancel_file = os.path.join(scripts_dir,'cancel_jobs.sh')\n",
    "os.system(f'bash {cancel_file}')"
   ]
  },
  {
   "attachments": {},
   "cell_type": "markdown",
   "metadata": {},
   "source": [
    "---"
   ]
  },
  {
   "attachments": {},
   "cell_type": "markdown",
   "metadata": {},
   "source": [
    "### Get Running Jobs"
   ]
  },
  {
   "cell_type": "code",
   "execution_count": 41,
   "metadata": {},
   "outputs": [
    {
     "name": "stdout",
     "output_type": "stream",
     "text": [
      "             JOBID PARTITION     NAME     USER ST       TIME  NODES NODELIST(REASON)\n"
     ]
    },
    {
     "data": {
      "text/plain": [
       "0"
      ]
     },
     "execution_count": 41,
     "metadata": {},
     "output_type": "execute_result"
    }
   ],
   "source": [
    "os.system('squeue -u $USER -t running')"
   ]
  },
  {
   "attachments": {},
   "cell_type": "markdown",
   "metadata": {},
   "source": [
    "### Get Pending Jobs"
   ]
  },
  {
   "cell_type": "code",
   "execution_count": 40,
   "metadata": {},
   "outputs": [
    {
     "name": "stdout",
     "output_type": "stream",
     "text": [
      "             JOBID PARTITION     NAME     USER ST       TIME  NODES NODELIST(REASON)\n",
      "          30721544 a100_1,a1   Job210  as14229 PD       0:00      1 (Priority)\n",
      "          30721543 a100_1,a1   Job209  as14229 PD       0:00      1 (Priority)\n",
      "          30721542 a100_1,a1   Job208  as14229 PD       0:00      1 (Priority)\n",
      "          30721541 a100_1,a1   Job207  as14229 PD       0:00      1 (Priority)\n",
      "          30721540 a100_1,a1   Job206  as14229 PD       0:00      1 (Priority)\n",
      "          30721539 a100_1,a1   Job205  as14229 PD       0:00      1 (Priority)\n",
      "          30721538 a100_1,a1   Job204  as14229 PD       0:00      1 (Priority)\n",
      "          30721537 a100_1,a1   Job203  as14229 PD       0:00      1 (Priority)\n",
      "          30721536 a100_1,a1   Job202  as14229 PD       0:00      1 (Priority)\n",
      "          30721535 a100_1,a1   Job201  as14229 PD       0:00      1 (Priority)\n",
      "          30721534 a100_1,a1   Job200  as14229 PD       0:00      1 (Priority)\n",
      "          30721533 a100_1,a1   Job199  as14229 PD       0:00      1 (Priority)\n",
      "          30721532 a100_1,a1   Job198  as14229 PD       0:00      1 (Priority)\n",
      "          30721531 a100_1,a1   Job197  as14229 PD       0:00      1 (Priority)\n",
      "          30721530 a100_1,a1   Job196  as14229 PD       0:00      1 (Priority)\n",
      "          30721529 a100_1,a1   Job195  as14229 PD       0:00      1 (Priority)\n",
      "          30721528 a100_1,a1   Job194  as14229 PD       0:00      1 (Priority)\n",
      "          30721527 a100_1,a1   Job193  as14229 PD       0:00      1 (Priority)\n",
      "          30721526 a100_1,a1   Job192  as14229 PD       0:00      1 (Priority)\n",
      "          30721525 a100_1,a1   Job191  as14229 PD       0:00      1 (Priority)\n",
      "          30721524 a100_1,a1   Job190  as14229 PD       0:00      1 (Priority)\n",
      "          30721523 a100_1,a1   Job189  as14229 PD       0:00      1 (Priority)\n",
      "          30721522 a100_1,a1   Job188  as14229 PD       0:00      1 (Priority)\n",
      "          30721521 a100_1,a1   Job187  as14229 PD       0:00      1 (Priority)\n",
      "          30721520 a100_1,a1   Job186  as14229 PD       0:00      1 (Priority)\n",
      "          30721519 a100_1,a1   Job185  as14229 PD       0:00      1 (Priority)\n",
      "          30721518 a100_1,a1   Job184  as14229 PD       0:00      1 (Priority)\n",
      "          30721517 a100_1,a1   Job183  as14229 PD       0:00      1 (Priority)\n",
      "          30721516 a100_1,a1   Job182  as14229 PD       0:00      1 (Priority)\n",
      "          30721515 a100_1,a1   Job181  as14229 PD       0:00      1 (Priority)\n",
      "          30721514 a100_1,a1   Job180  as14229 PD       0:00      1 (Priority)\n",
      "          30721513 a100_1,a1   Job179  as14229 PD       0:00      1 (Priority)\n",
      "          30721512 a100_1,a1   Job178  as14229 PD       0:00      1 (Priority)\n",
      "          30721511 a100_1,a1   Job177  as14229 PD       0:00      1 (Priority)\n",
      "          30721510 a100_1,a1   Job176  as14229 PD       0:00      1 (Priority)\n",
      "          30721509 a100_1,a1   Job175  as14229 PD       0:00      1 (Priority)\n",
      "          30721508 a100_1,a1   Job174  as14229 PD       0:00      1 (Priority)\n",
      "          30721507 a100_1,a1   Job173  as14229 PD       0:00      1 (Priority)\n",
      "          30721506 a100_1,a1   Job172  as14229 PD       0:00      1 (Priority)\n",
      "          30721505 a100_1,a1   Job171  as14229 PD       0:00      1 (Priority)\n",
      "          30721504 a100_1,a1   Job170  as14229 PD       0:00      1 (Priority)\n",
      "          30721503 a100_1,a1   Job169  as14229 PD       0:00      1 (Priority)\n",
      "          30721502 a100_1,a1   Job168  as14229 PD       0:00      1 (Priority)\n",
      "          30721501 a100_1,a1   Job167  as14229 PD       0:00      1 (Priority)\n",
      "          30721500 a100_1,a1   Job166  as14229 PD       0:00      1 (Priority)\n",
      "          30721499 a100_1,a1   Job165  as14229 PD       0:00      1 (Priority)\n",
      "          30721498 a100_1,a1   Job164  as14229 PD       0:00      1 (Priority)\n",
      "          30721497 a100_1,a1   Job163  as14229 PD       0:00      1 (Priority)\n",
      "          30721496 a100_1,a1   Job162  as14229 PD       0:00      1 (Priority)\n",
      "          30721495 a100_1,a1   Job161  as14229 PD       0:00      1 (Priority)\n",
      "          30721494 a100_1,a1   Job160  as14229 PD       0:00      1 (Priority)\n",
      "          30721493 a100_1,a1   Job159  as14229 PD       0:00      1 (Priority)\n",
      "          30721492 a100_1,a1   Job158  as14229 PD       0:00      1 (Priority)\n",
      "          30721491 a100_1,a1   Job157  as14229 PD       0:00      1 (Priority)\n",
      "          30721490 a100_1,a1   Job156  as14229 PD       0:00      1 (Priority)\n",
      "          30721489 a100_1,a1   Job155  as14229 PD       0:00      1 (Priority)\n",
      "          30721488 a100_1,a1   Job154  as14229 PD       0:00      1 (Priority)\n",
      "          30721487 a100_1,a1   Job153  as14229 PD       0:00      1 (Priority)\n",
      "          30721486 a100_1,a1   Job152  as14229 PD       0:00      1 (Priority)\n",
      "          30721485 a100_1,a1   Job151  as14229 PD       0:00      1 (Priority)\n",
      "          30721484 a100_1,a1   Job150  as14229 PD       0:00      1 (Priority)\n",
      "          30721483 a100_1,a1   Job149  as14229 PD       0:00      1 (Priority)\n",
      "          30721482 a100_1,a1   Job148  as14229 PD       0:00      1 (Priority)\n",
      "          30721481 a100_1,a1   Job147  as14229 PD       0:00      1 (Priority)\n",
      "          30721480 a100_1,a1   Job146  as14229 PD       0:00      1 (Priority)\n",
      "          30721479 a100_1,a1   Job145  as14229 PD       0:00      1 (Priority)\n",
      "          30721478 a100_1,a1   Job144  as14229 PD       0:00      1 (Priority)\n",
      "          30721477 a100_1,a1   Job143  as14229 PD       0:00      1 (Priority)\n",
      "          30721476 a100_1,a1   Job142  as14229 PD       0:00      1 (Priority)\n",
      "          30721475 a100_1,a1   Job141  as14229 PD       0:00      1 (Priority)\n",
      "          30721474 a100_1,a1   Job140  as14229 PD       0:00      1 (Priority)\n",
      "          30721473 a100_1,a1   Job139  as14229 PD       0:00      1 (Priority)\n",
      "          30721472 a100_1,a1   Job138  as14229 PD       0:00      1 (Priority)\n",
      "          30721471 a100_1,a1   Job137  as14229 PD       0:00      1 (Priority)\n",
      "          30721470 a100_1,a1   Job136  as14229 PD       0:00      1 (Priority)\n",
      "          30721469 a100_1,a1   Job135  as14229 PD       0:00      1 (Priority)\n",
      "          30721468 a100_1,a1   Job134  as14229 PD       0:00      1 (Priority)\n",
      "          30721467 a100_1,a1   Job133  as14229 PD       0:00      1 (Priority)\n",
      "          30721466 a100_1,a1   Job132  as14229 PD       0:00      1 (Priority)\n",
      "          30721465 a100_1,a1   Job131  as14229 PD       0:00      1 (Priority)\n",
      "          30721464 a100_1,a1   Job130  as14229 PD       0:00      1 (Priority)\n",
      "          30721463 a100_1,a1   Job129  as14229 PD       0:00      1 (Priority)\n",
      "          30721462 a100_1,a1   Job128  as14229 PD       0:00      1 (Priority)\n",
      "          30721461 a100_1,a1   Job127  as14229 PD       0:00      1 (Priority)\n",
      "          30721460 a100_1,a1   Job126  as14229 PD       0:00      1 (Priority)\n",
      "          30721459 a100_1,a1   Job125  as14229 PD       0:00      1 (Priority)\n",
      "          30721458 a100_1,a1   Job124  as14229 PD       0:00      1 (Priority)\n",
      "          30721457 a100_1,a1   Job123  as14229 PD       0:00      1 (Priority)\n",
      "          30721456 a100_1,a1   Job122  as14229 PD       0:00      1 (Priority)\n",
      "          30721455 a100_1,a1   Job121  as14229 PD       0:00      1 (Priority)\n",
      "          30721454 a100_1,a1   Job120  as14229 PD       0:00      1 (Priority)\n",
      "          30721453 a100_1,a1   Job119  as14229 PD       0:00      1 (Priority)\n",
      "          30721452 a100_1,a1   Job118  as14229 PD       0:00      1 (Priority)\n",
      "          30721451 a100_1,a1   Job117  as14229 PD       0:00      1 (Priority)\n",
      "          30721450 a100_1,a1   Job116  as14229 PD       0:00      1 (Priority)\n",
      "          30721449 a100_1,a1   Job115  as14229 PD       0:00      1 (Priority)\n",
      "          30721448 a100_1,a1   Job114  as14229 PD       0:00      1 (Priority)\n",
      "          30721447 a100_1,a1   Job113  as14229 PD       0:00      1 (Priority)\n",
      "          30721446 a100_1,a1   Job112  as14229 PD       0:00      1 (Priority)\n",
      "          30721445 a100_1,a1   Job111  as14229 PD       0:00      1 (Priority)\n",
      "          30721444 a100_1,a1   Job110  as14229 PD       0:00      1 (Priority)\n",
      "          30721443 a100_1,a1   Job109  as14229 PD       0:00      1 (Priority)\n",
      "          30721442 a100_1,a1   Job108  as14229 PD       0:00      1 (Priority)\n",
      "          30721441 a100_1,a1   Job107  as14229 PD       0:00      1 (Priority)\n",
      "          30721440 a100_1,a1   Job106  as14229 PD       0:00      1 (Priority)\n",
      "          30721439 a100_1,a1   Job105  as14229 PD       0:00      1 (Priority)\n",
      "          30721438 a100_1,a1   Job104  as14229 PD       0:00      1 (Priority)\n",
      "          30721437 a100_1,a1   Job103  as14229 PD       0:00      1 (Priority)\n",
      "          30721436 a100_1,a1   Job102  as14229 PD       0:00      1 (Priority)\n",
      "          30721435 a100_1,a1   Job101  as14229 PD       0:00      1 (Priority)\n",
      "          30721434 a100_1,a1   Job100  as14229 PD       0:00      1 (Priority)\n",
      "          30721433 a100_1,a1    Job99  as14229 PD       0:00      1 (Priority)\n",
      "          30721432 a100_1,a1    Job98  as14229 PD       0:00      1 (Priority)\n",
      "          30721431 a100_1,a1    Job97  as14229 PD       0:00      1 (Priority)\n",
      "          30721430 a100_1,a1    Job96  as14229 PD       0:00      1 (Priority)\n",
      "          30721429 a100_1,a1    Job95  as14229 PD       0:00      1 (Priority)\n",
      "          30721428 a100_1,a1    Job94  as14229 PD       0:00      1 (Priority)\n",
      "          30721427 a100_1,a1    Job93  as14229 PD       0:00      1 (Priority)\n",
      "          30721426 a100_1,a1    Job92  as14229 PD       0:00      1 (Priority)\n",
      "          30721425 a100_1,a1    Job91  as14229 PD       0:00      1 (Priority)\n",
      "          30721424 a100_1,a1    Job90  as14229 PD       0:00      1 (Priority)\n",
      "          30721423 a100_1,a1    Job89  as14229 PD       0:00      1 (Priority)\n",
      "          30721422 a100_1,a1    Job88  as14229 PD       0:00      1 (Priority)\n",
      "          30721421 a100_1,a1    Job87  as14229 PD       0:00      1 (Priority)\n",
      "          30721420 a100_1,a1    Job86  as14229 PD       0:00      1 (Priority)\n",
      "          30721419 a100_1,a1    Job85  as14229 PD       0:00      1 (Priority)\n",
      "          30721418 a100_1,a1    Job84  as14229 PD       0:00      1 (Priority)\n",
      "          30721417 a100_1,a1    Job83  as14229 PD       0:00      1 (Priority)\n",
      "          30721416 a100_1,a1    Job82  as14229 PD       0:00      1 (Priority)\n",
      "          30721415 a100_1,a1    Job81  as14229 PD       0:00      1 (Priority)\n",
      "          30721414 a100_1,a1    Job80  as14229 PD       0:00      1 (Priority)\n",
      "          30721413 a100_1,a1    Job79  as14229 PD       0:00      1 (Priority)\n",
      "          30721412 a100_1,a1    Job78  as14229 PD       0:00      1 (Priority)\n",
      "          30721411 a100_1,a1    Job77  as14229 PD       0:00      1 (Priority)\n",
      "          30721410 a100_1,a1    Job76  as14229 PD       0:00      1 (Priority)\n",
      "          30721409 a100_1,a1    Job75  as14229 PD       0:00      1 (Priority)\n",
      "          30721408 a100_1,a1    Job74  as14229 PD       0:00      1 (Priority)\n",
      "          30721407 a100_1,a1    Job73  as14229 PD       0:00      1 (Priority)\n",
      "          30721406 a100_1,a1    Job72  as14229 PD       0:00      1 (Priority)\n",
      "          30721405 a100_1,a1    Job71  as14229 PD       0:00      1 (Priority)\n",
      "          30721404 a100_1,a1    Job70  as14229 PD       0:00      1 (Priority)\n",
      "          30721403 a100_1,a1    Job69  as14229 PD       0:00      1 (Priority)\n",
      "          30721402 a100_1,a1    Job68  as14229 PD       0:00      1 (Priority)\n",
      "          30721401 a100_1,a1    Job67  as14229 PD       0:00      1 (Priority)\n",
      "          30721400 a100_1,a1    Job66  as14229 PD       0:00      1 (Priority)\n",
      "          30721399 a100_1,a1    Job65  as14229 PD       0:00      1 (Priority)\n",
      "          30721398 a100_1,a1    Job64  as14229 PD       0:00      1 (Priority)\n",
      "          30721397 a100_1,a1    Job63  as14229 PD       0:00      1 (Priority)\n",
      "          30721396 a100_1,a1    Job62  as14229 PD       0:00      1 (Priority)\n",
      "          30721395 a100_1,a1    Job61  as14229 PD       0:00      1 (Priority)\n",
      "          30721394 a100_1,a1    Job60  as14229 PD       0:00      1 (Priority)\n",
      "          30721393 a100_1,a1    Job59  as14229 PD       0:00      1 (Priority)\n",
      "          30721392 a100_1,a1    Job58  as14229 PD       0:00      1 (Priority)\n",
      "          30721391 a100_1,a1    Job57  as14229 PD       0:00      1 (Priority)\n",
      "          30721390 a100_1,a1    Job56  as14229 PD       0:00      1 (Priority)\n",
      "          30721389 a100_1,a1    Job55  as14229 PD       0:00      1 (Priority)\n",
      "          30721388 a100_1,a1    Job54  as14229 PD       0:00      1 (Priority)\n",
      "          30721387 a100_1,a1    Job53  as14229 PD       0:00      1 (Priority)\n",
      "          30721386 a100_1,a1    Job52  as14229 PD       0:00      1 (Priority)\n",
      "          30721385 a100_1,a1    Job51  as14229 PD       0:00      1 (Priority)\n",
      "          30721384 a100_1,a1    Job50  as14229 PD       0:00      1 (Priority)\n",
      "          30721383 a100_1,a1    Job49  as14229 PD       0:00      1 (Priority)\n",
      "          30721382 a100_1,a1    Job48  as14229 PD       0:00      1 (Priority)\n",
      "          30721381 a100_1,a1    Job47  as14229 PD       0:00      1 (Priority)\n",
      "          30721380 a100_1,a1    Job46  as14229 PD       0:00      1 (Priority)\n",
      "          30721379 a100_1,a1    Job45  as14229 PD       0:00      1 (Priority)\n",
      "          30721378 a100_1,a1    Job44  as14229 PD       0:00      1 (Priority)\n",
      "          30721377 a100_1,a1    Job43  as14229 PD       0:00      1 (Priority)\n",
      "          30721376 a100_1,a1    Job42  as14229 PD       0:00      1 (Priority)\n",
      "          30721375 a100_1,a1    Job41  as14229 PD       0:00      1 (Priority)\n",
      "          30721374 a100_1,a1    Job40  as14229 PD       0:00      1 (Priority)\n",
      "          30721373 a100_1,a1    Job39  as14229 PD       0:00      1 (Priority)\n",
      "          30721372 a100_1,a1    Job38  as14229 PD       0:00      1 (Priority)\n",
      "          30721371 a100_1,a1    Job37  as14229 PD       0:00      1 (Priority)\n",
      "          30721370 a100_1,a1    Job36  as14229 PD       0:00      1 (Priority)\n",
      "          30721369 a100_1,a1    Job35  as14229 PD       0:00      1 (Priority)\n",
      "          30721368 a100_1,a1    Job34  as14229 PD       0:00      1 (Priority)\n",
      "          30721367 a100_1,a1    Job33  as14229 PD       0:00      1 (Priority)\n",
      "          30721366 a100_1,a1    Job32  as14229 PD       0:00      1 (Priority)\n",
      "          30721365 a100_1,a1    Job31  as14229 PD       0:00      1 (Priority)\n",
      "          30721364 a100_1,a1    Job30  as14229 PD       0:00      1 (Priority)\n",
      "          30721363 a100_1,a1    Job29  as14229 PD       0:00      1 (Priority)\n",
      "          30721362 a100_1,a1    Job28  as14229 PD       0:00      1 (Priority)\n",
      "          30721361 a100_1,a1    Job27  as14229 PD       0:00      1 (Priority)\n",
      "          30721360 a100_1,a1    Job26  as14229 PD       0:00      1 (Priority)\n",
      "          30721359 a100_1,a1    Job25  as14229 PD       0:00      1 (Priority)\n",
      "          30721358 a100_1,a1    Job24  as14229 PD       0:00      1 (Priority)\n",
      "          30721357 a100_1,a1    Job23  as14229 PD       0:00      1 (Priority)\n",
      "          30721356 a100_1,a1    Job22  as14229 PD       0:00      1 (Priority)\n",
      "          30721355 a100_1,a1    Job21  as14229 PD       0:00      1 (Priority)\n",
      "          30721354 a100_1,a1    Job20  as14229 PD       0:00      1 (Priority)\n",
      "          30721353 a100_1,a1    Job19  as14229 PD       0:00      1 (Priority)\n",
      "          30721352 a100_1,a1    Job18  as14229 PD       0:00      1 (Priority)\n",
      "          30721351 a100_1,a1    Job17  as14229 PD       0:00      1 (Priority)\n",
      "          30721350 a100_1,a1    Job16  as14229 PD       0:00      1 (Priority)\n",
      "          30721349 a100_1,a1    Job15  as14229 PD       0:00      1 (Priority)\n",
      "          30721348 a100_1,a1    Job14  as14229 PD       0:00      1 (Priority)\n",
      "          30721347 a100_1,a1    Job13  as14229 PD       0:00      1 (Priority)\n",
      "          30721346 a100_1,a1    Job12  as14229 PD       0:00      1 (Priority)\n",
      "          30721345 a100_1,a1    Job11  as14229 PD       0:00      1 (Priority)\n",
      "          30721344 a100_1,a1    Job10  as14229 PD       0:00      1 (Priority)\n",
      "          30721343 a100_1,a1     Job9  as14229 PD       0:00      1 (Priority)\n",
      "          30721342 a100_1,a1     Job8  as14229 PD       0:00      1 (Priority)\n",
      "          30721341 a100_1,a1     Job7  as14229 PD       0:00      1 (Priority)\n",
      "          30721340 a100_1,a1     Job6  as14229 PD       0:00      1 (Priority)\n",
      "          30721339 a100_1,a1     Job5  as14229 PD       0:00      1 (Priority)\n",
      "          30721338 a100_1,a1     Job4  as14229 PD       0:00      1 (Priority)\n",
      "          30721337 a100_1,a1     Job3  as14229 PD       0:00      1 (Priority)\n",
      "          30721336 a100_1,a1     Job2  as14229 PD       0:00      1 (Priority)\n",
      "          30721335 a100_1,a1     Job1  as14229 PD       0:00      1 (Priority)\n"
     ]
    },
    {
     "data": {
      "text/plain": [
       "0"
      ]
     },
     "execution_count": 40,
     "metadata": {},
     "output_type": "execute_result"
    }
   ],
   "source": [
    "os.system('squeue -u $USER -t pending')"
   ]
  },
  {
   "attachments": {},
   "cell_type": "markdown",
   "metadata": {},
   "source": [
    "---"
   ]
  },
  {
   "attachments": {},
   "cell_type": "markdown",
   "metadata": {},
   "source": [
    "### Utils"
   ]
  },
  {
   "cell_type": "code",
   "execution_count": 6,
   "metadata": {},
   "outputs": [],
   "source": [
    "path = '/home/as14229/NYU_HPC/Multilingual-Speech-Emotion-Recognition-System/jobs/sbatch'\n",
    "jobs = [os.path.join(path,f) for f in os.listdir(path)]\n",
    "\n",
    "# for job in jobs:\n"
   ]
  },
  {
   "cell_type": "code",
   "execution_count": 9,
   "metadata": {},
   "outputs": [],
   "source": [
    "for job in jobs:\n",
    "    with open(job, 'r') as file:\n",
    "        # read a list of lines into data\n",
    "        data = file.readlines()\n",
    "    data[6]='#SBATCH --partition=a100_1,a100_2,rtx8000,v100\\n'\n",
    "    with open(job, 'w') as file:\n",
    "        file.writelines(data)"
   ]
  },
  {
   "cell_type": "code",
   "execution_count": 13,
   "metadata": {},
   "outputs": [],
   "source": [
    "mv_loc = '/home/as14229/NYU_HPC/Multilingual-Speech-Emotion-Recognition-System/jobs/sbatch/cancelled'\n",
    "for job in jobs:\n",
    "    with open(job, 'r') as file:\n",
    "        # read a list of lines into data\n",
    "        data = file.readlines()\n",
    "    if 'WAVLM' in data[-1] :\n",
    "        os.system(f'mv {job} {mv_loc}')\n",
    "\n",
    "# python main.py -ll debug -em gpu_memory -nw 2 -cm DENSE  -d IEMOCAP -m WAV2VEC2_BASE -r Run1 -jn Job1"
   ]
  },
  {
   "cell_type": "code",
   "execution_count": 7,
   "metadata": {},
   "outputs": [],
   "source": [
    "jb = sorted([int(m.split('.')[0][3:]) for m in os.listdir('/home/as14229/NYU_HPC/Multilingual-Speech-Emotion-Recognition-System/jobs/cancelled')])\n",
    "for j in jb :\n",
    "    os.system(f'scancel $(sacct -n -X --format jobid --name Job{j})')\n",
    "    # print(f'Job{j}')"
   ]
  },
  {
   "cell_type": "code",
   "execution_count": 26,
   "metadata": {},
   "outputs": [
    {
     "name": "stdout",
     "output_type": "stream",
     "text": [
      "Submitted batch job 30919018\n",
      "Submitted batch job 30919019\n",
      "Submitted batch job 30919020\n",
      "Submitted batch job 30919021\n",
      "Submitted batch job 30919022\n",
      "Submitted batch job 30919023\n",
      "Submitted batch job 30919024\n",
      "Submitted batch job 30919025\n",
      "Submitted batch job 30919026\n",
      "Submitted batch job 30919027\n",
      "Submitted batch job 30919028\n",
      "Submitted batch job 30919029\n",
      "Submitted batch job 30919030\n",
      "Submitted batch job 30919031\n",
      "Submitted batch job 30919032\n",
      "Submitted batch job 30919033\n",
      "Submitted batch job 30919034\n",
      "Submitted batch job 30919035\n",
      "Submitted batch job 30919036\n",
      "Submitted batch job 30919037\n",
      "Submitted batch job 30919038\n",
      "Submitted batch job 30919039\n",
      "Submitted batch job 30919040\n",
      "Submitted batch job 30919041\n",
      "Submitted batch job 30919042\n",
      "Submitted batch job 30919043\n",
      "Submitted batch job 30919044\n",
      "Submitted batch job 30919045\n",
      "Submitted batch job 30919046\n",
      "Submitted batch job 30919047\n",
      "Submitted batch job 30919048\n",
      "Submitted batch job 30919049\n",
      "Submitted batch job 30919050\n",
      "Submitted batch job 30919051\n",
      "Submitted batch job 30919052\n",
      "Submitted batch job 30919053\n",
      "Submitted batch job 30919054\n",
      "Submitted batch job 30919055\n",
      "Submitted batch job 30919056\n",
      "Submitted batch job 30919057\n",
      "Submitted batch job 30919058\n",
      "Submitted batch job 30919059\n",
      "Submitted batch job 30919060\n",
      "Submitted batch job 30919061\n",
      "Submitted batch job 30919062\n",
      "Submitted batch job 30919063\n",
      "Submitted batch job 30919064\n",
      "Submitted batch job 30919065\n",
      "Submitted batch job 30919066\n",
      "Submitted batch job 30919067\n",
      "Submitted batch job 30919068\n",
      "Submitted batch job 30919069\n",
      "Submitted batch job 30919070\n",
      "Submitted batch job 30919071\n",
      "Submitted batch job 30919072\n",
      "Submitted batch job 30919073\n",
      "Submitted batch job 30919074\n",
      "Submitted batch job 30919075\n",
      "Submitted batch job 30919076\n",
      "Submitted batch job 30919077\n",
      "Submitted batch job 30919078\n",
      "Submitted batch job 30919079\n",
      "Submitted batch job 30919080\n",
      "Submitted batch job 30919081\n",
      "Submitted batch job 30919082\n",
      "Submitted batch job 30919083\n",
      "Submitted batch job 30919084\n",
      "Submitted batch job 30919085\n",
      "Submitted batch job 30919086\n",
      "Submitted batch job 30919087\n"
     ]
    }
   ],
   "source": [
    "jb = sorted([int(m.split('.')[0][3:]) for m in os.listdir('/home/as14229/NYU_HPC/Multilingual-Speech-Emotion-Recognition-System/jobs/cancelled')])\n",
    "for j in jb :\n",
    "    os.system(f'sbatch /home/as14229/NYU_HPC/Multilingual-Speech-Emotion-Recognition-System/jobs/cancelled/job{j}.sbatch')\n",
    "    # print(f'Job{j}')"
   ]
  },
  {
   "attachments": {},
   "cell_type": "markdown",
   "metadata": {},
   "source": [
    "---"
   ]
  },
  {
   "cell_type": "code",
   "execution_count": 24,
   "metadata": {},
   "outputs": [
    {
     "name": "stdout",
     "output_type": "stream",
     "text": [
      "python main.py -ll debug -em gpu_memory -nw 3 -cm PROBING_DENSE -e 50 -d RAVDESS -fm WAV2VEC2_LARGE_XLSR -r Run2 -jn Job188\n",
      "python main.py -ll debug -em gpu_memory -nw 3 -cm PROBING_DENSE -e 50 -d CaFE -fm WAV2VEC2_LARGE_XLSR -r Run3 -jn Job191\n",
      "python main.py -ll debug -em gpu_memory -nw 3 -cm PROBING_DENSE -e 50 -d IEMOCAP -fm WAV2VEC2_LARGE_XLSR -r Run3 -jn Job194\n",
      "python main.py -ll debug -em gpu_memory -nw 3 -cm PROBING_DENSE -e 50 -d RAVDESS -fm WAV2VEC2_LARGE_XLSR -r Run4 -jn Job202\n",
      "python main.py -ll debug -em gpu_memory -nw 3 -cm PROBING_DENSE -e 50 -d RAVDESS -fm WAV2VEC2_LARGE_XLSR -r Run1 -jn Job181\n",
      "python main.py -ll debug -em gpu_memory -nw 3 -cm PROBING_DENSE -e 50 -d EMOVO -fm WAV2VEC2_LARGE_XLSR -r Run5 -jn Job207\n",
      "python main.py -ll debug -em gpu_memory -nw 3 -cm PROBING_DENSE -e 50 -d CaFE -fm WAV2VEC2_LARGE_XLSR -r Run2 -jn Job184\n",
      "python main.py -ll debug -em gpu_memory -nw 3 -cm PROBING_DENSE -e 50 -d ShEMO -fm WAV2VEC2_LARGE_XLSR -r Run1 -jn Job182\n",
      "python main.py -ll debug -em gpu_memory -nw 3 -cm PROBING_DENSE -e 50 -d CaFE -fm WAV2VEC2_LARGE_XLSR -r Run5 -jn Job205\n",
      "python main.py -ll debug -em gpu_memory -nw 3 -cm PROBING_DENSE -e 50 -d ShEMO -fm WAV2VEC2_LARGE_XLSR -r Run2 -jn Job189\n",
      "python main.py -ll debug -em gpu_memory -nw 3 -cm PROBING_DENSE -e 50 -d EmoDB -fm WAV2VEC2_LARGE_XLSR -r Run3 -jn Job192\n",
      "python main.py -ll debug -em gpu_memory -nw 3 -cm PROBING_DENSE -e 50 -d RAVDESS -fm WAV2VEC2_LARGE_XLSR -r Run5 -jn Job209\n",
      "python main.py -ll debug -em gpu_memory -nw 3 -cm PROBING_DENSE -e 50 -d ShEMO -fm WAV2VEC2_LARGE_XLSR -r Run3 -jn Job196\n",
      "python main.py -ll debug -em gpu_memory -nw 3 -cm PROBING_DENSE -e 50 -d AESDD -fm WAV2VEC2_LARGE_XLSR -r Run1 -jn Job176\n",
      "python main.py -ll debug -em gpu_memory -nw 3 -cm PROBING_DENSE -e 50 -d EMOVO -fm WAV2VEC2_LARGE_XLSR -r Run1 -jn Job179\n",
      "python main.py -ll debug -em gpu_memory -nw 3 -cm PROBING_DENSE -e 50 -d AESDD -fm WAV2VEC2_LARGE_XLSR -r Run4 -jn Job197\n",
      "python main.py -ll debug -em gpu_memory -nw 3 -cm PROBING_DENSE -e 50 -d AESDD -fm WAV2VEC2_LARGE_XLSR -r Run5 -jn Job204\n",
      "python main.py -ll debug -em gpu_memory -nw 3 -cm PROBING_DENSE -e 50 -d EmoDB -fm WAV2VEC2_LARGE_XLSR -r Run4 -jn Job199\n",
      "python main.py -ll debug -em gpu_memory -nw 3 -cm PROBING_DENSE -e 50 -d AESDD -fm WAV2VEC2_LARGE_XLSR -r Run3 -jn Job190\n",
      "python main.py -ll debug -em gpu_memory -nw 3 -cm PROBING_DENSE -e 50 -d ShEMO -fm WAV2VEC2_LARGE_XLSR -r Run4 -jn Job203\n",
      "python main.py -ll debug -em gpu_memory -nw 3 -cm PROBING_DENSE -e 50 -d CaFE -fm WAV2VEC2_LARGE_XLSR -r Run1 -jn Job177\n",
      "python main.py -ll debug -em gpu_memory -nw 3 -cm PROBING_DENSE -e 50 -d AESDD -fm WAV2VEC2_LARGE_XLSR -r Run2 -jn Job183\n",
      "python main.py -ll debug -em gpu_memory -nw 3 -cm PROBING_DENSE -e 50 -d EmoDB -fm WAV2VEC2_LARGE_XLSR -r Run5 -jn Job206\n",
      "python main.py -ll debug -em gpu_memory -nw 3 -cm PROBING_DENSE -e 50 -d IEMOCAP -fm WAV2VEC2_LARGE_XLSR -r Run4 -jn Job201\n",
      "python main.py -ll debug -em gpu_memory -nw 3 -cm PROBING_DENSE -e 50 -d CaFE -fm WAV2VEC2_LARGE_XLSR -r Run4 -jn Job198\n",
      "python main.py -ll debug -em gpu_memory -nw 3 -cm PROBING_DENSE -e 50 -d IEMOCAP -fm WAV2VEC2_LARGE_XLSR -r Run5 -jn Job208\n",
      "python main.py -ll debug -em gpu_memory -nw 3 -cm PROBING_DENSE -e 50 -d ShEMO -fm WAV2VEC2_LARGE_XLSR -r Run5 -jn Job210\n",
      "python main.py -ll debug -em gpu_memory -nw 3 -cm PROBING_DENSE -e 50 -d IEMOCAP -fm WAV2VEC2_LARGE_XLSR -r Run2 -jn Job187\n",
      "python main.py -ll debug -em gpu_memory -nw 3 -cm PROBING_DENSE -e 50 -d EMOVO -fm WAV2VEC2_LARGE_XLSR -r Run3 -jn Job193\n",
      "python main.py -ll debug -em gpu_memory -nw 3 -cm PROBING_DENSE -e 50 -d EmoDB -fm WAV2VEC2_LARGE_XLSR -r Run2 -jn Job185\n",
      "python main.py -ll debug -em gpu_memory -nw 3 -cm PROBING_DENSE -e 50 -d EMOVO -fm WAV2VEC2_LARGE_XLSR -r Run2 -jn Job186\n",
      "python main.py -ll debug -em gpu_memory -nw 3 -cm PROBING_DENSE -e 50 -d EMOVO -fm WAV2VEC2_LARGE_XLSR -r Run4 -jn Job200\n",
      "python main.py -ll debug -em gpu_memory -nw 3 -cm PROBING_DENSE -e 50 -d RAVDESS -fm WAV2VEC2_LARGE_XLSR -r Run3 -jn Job195\n",
      "python main.py -ll debug -em gpu_memory -nw 3 -cm PROBING_DENSE -e 50 -d EmoDB -fm WAV2VEC2_LARGE_XLSR -r Run1 -jn Job178\n",
      "python main.py -ll debug -em gpu_memory -nw 3 -cm PROBING_DENSE -e 50 -d IEMOCAP -fm WAV2VEC2_LARGE_XLSR -r Run1 -jn Job180\n"
     ]
    }
   ],
   "source": [
    "mv_loc = '/home/as14229/NYU_HPC/Multilingual-Speech-Emotion-Recognition-System/jobs/cancelled'\n",
    "job_dir = '/home/as14229/NYU_HPC/Multilingual-Speech-Emotion-Recognition-System/jobs/sbatch'\n",
    "for job in os.listdir(mv_loc):\n",
    "    jobfile = os.path.join(mv_loc,job)\n",
    "    with open(jobfile, 'r') as file:\n",
    "        # read a list of lines into data\n",
    "        data = file.readlines()\n",
    "    if 'PROBING_DEN50' in data[-1] :\n",
    "        data[-1] = data[-1][:61]+'SE'+data[-1][63:67]+'50'+data[-1][70:]\n",
    "        print(data[-1])\n",
    "        with open(jobfile, 'w') as file:\n",
    "            file.writelines(data)"
   ]
  },
  {
   "cell_type": "code",
   "execution_count": 23,
   "metadata": {},
   "outputs": [
    {
     "data": {
      "text/plain": [
       "'30 '"
      ]
     },
     "execution_count": 23,
     "metadata": {},
     "output_type": "execute_result"
    }
   ],
   "source": [
    "a = 'python main.py -ll debug -em gpu_memory -nw 3 -cm PROBING_DEN50 -e 30  -d CaFE -fm WAV2VEC2_LARGE_XLSR -r Run3 -jn Job191'\n",
    "a[67:70]"
   ]
  },
  {
   "cell_type": "code",
   "execution_count": 13,
   "metadata": {},
   "outputs": [
    {
     "name": "stdout",
     "output_type": "stream",
     "text": [
      "python main.py -ll debug -em gpu_memory -nw 3 -cm PROBING -e 50  -d EmoDB -fm WAV2VEC2_LARGE_XLSR -r Run2 -jn Job220\n"
     ]
    }
   ],
   "source": [
    "a = 'python main.py -ll debug -em gpu_memory -nw 3 -cm PROBING -e 30  -d EmoDB -fm WAV2VEC2_LARGE_XLSR -r Run2 -jn Job220'\n",
    "a=a[:61]+'50'+a[63:]\n",
    "print(a)"
   ]
  },
  {
   "cell_type": "code",
   "execution_count": null,
   "metadata": {},
   "outputs": [],
   "source": []
  }
 ],
 "metadata": {
  "kernelspec": {
   "display_name": "MSERS",
   "language": "python",
   "name": "python3"
  },
  "language_info": {
   "codemirror_mode": {
    "name": "ipython",
    "version": 3
   },
   "file_extension": ".py",
   "mimetype": "text/x-python",
   "name": "python",
   "nbconvert_exporter": "python",
   "pygments_lexer": "ipython3",
   "version": "3.8.0"
  },
  "orig_nbformat": 4,
  "vscode": {
   "interpreter": {
    "hash": "edf93a12d1b5ae7990448df3fb6c693d48c5ca93c427a6f205fa1a1fadc791bd"
   }
  }
 },
 "nbformat": 4,
 "nbformat_minor": 2
}
