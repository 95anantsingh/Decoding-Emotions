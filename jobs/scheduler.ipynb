{
 "cells": [
  {
   "attachments": {},
   "cell_type": "markdown",
   "metadata": {},
   "source": [
    "# Job Scheduler"
   ]
  },
  {
   "cell_type": "code",
   "execution_count": 1,
   "metadata": {},
   "outputs": [],
   "source": [
    "import os"
   ]
  },
  {
   "attachments": {},
   "cell_type": "markdown",
   "metadata": {},
   "source": [
    "### Setup Directories"
   ]
  },
  {
   "cell_type": "code",
   "execution_count": 101,
   "metadata": {},
   "outputs": [],
   "source": [
    "base_dir = '/home/as14229/NYU_HPC/Multilingual-Speech-Emotion-Recognition-System/jobs/'\n",
    "jobs_dir = os.path.join(base_dir,'sbatch')\n",
    "logs_base_dir = os.path.join(base_dir,'logs')\n",
    "os.makedirs(logs_base_dir,exist_ok=True)\n",
    "\n",
    "batch_number = max([int(d.split('_')[-1]) for d in os.listdir(logs_base_dir)]+[1])\n",
    "logs_dir = os.path.join(logs_base_dir,f'batch_{batch_number}')\n",
    "os.makedirs(logs_dir,exist_ok=True)\n",
    "\n",
    "if len(os.listdir(logs_dir))!=0:\n",
    "    logs_dir = os.path.join(logs_base_dir,f'batch_{batch_number+1}')\n",
    "\n",
    "scripts_dir = os.path.join(base_dir,'scripts')\n",
    "\n",
    "os.makedirs(jobs_dir,exist_ok=True)\n",
    "os.makedirs(logs_dir,exist_ok=True)\n",
    "os.makedirs(scripts_dir,exist_ok=True)"
   ]
  },
  {
   "attachments": {},
   "cell_type": "markdown",
   "metadata": {},
   "source": [
    "### Setup Main Command"
   ]
  },
  {
   "cell_type": "code",
   "execution_count": 102,
   "metadata": {},
   "outputs": [],
   "source": [
    "sbatch_header = f\"#!/bin/bash\\n\\\n",
    "\\n\\\n",
    "#SBATCH --nodes=1               \\n\\\n",
    "#SBATCH --ntasks-per-node=1     \\n\\\n",
    "#SBATCH --gres=gpu:1            \\n\"\n",
    "\n",
    "# partition list - sinfo -s\n",
    "\n",
    "job_name_directive =  \"#SBATCH --job-name=Job\"\n",
    "output_file_directive = \"#SBATCH --output=\"+logs_dir+'/job'\n",
    "\n",
    "command_header = \"\\nmodule purge\\n\\\n",
    "source ~/.bashrc\\n\\\n",
    "conda activate NLP_Nightly\\n\\\n",
    "cd /home/as14229/NYU_HPC/Multilingual-Speech-Emotion-Recognition-System/\\n\\n\"\n",
    "\n",
    "# Main Commmand\n",
    "command = \"python main.py -ll debug -em gpu_memory -nw 2 -cm DENSE \"\n",
    "\n",
    "# RAM required in GB\n",
    "memory_required_per_task = 128\n",
    "job_params = dict(\n",
    "    time = \"4:00:00\",       # Time per job\n",
    "    # mem = '128GB', )               # RAM required in GB\n",
    "    partition = 'a100_1,a100_2,rtx8000')\n",
    "\n",
    "for param,val in job_params.items():\n",
    "    sbatch_header+=f'#SBATCH --{param}={val}\\n'"
   ]
  },
  {
   "cell_type": "markdown",
   "metadata": {},
   "source": [
    "### Get all Jobs"
   ]
  },
  {
   "cell_type": "code",
   "execution_count": 104,
   "metadata": {},
   "outputs": [
    {
     "name": "stdout",
     "output_type": "stream",
     "text": [
      "157\n"
     ]
    }
   ],
   "source": [
    "# ['Run1','Run2','Run3','Run4','Run5']\n",
    "runs = ['Run2']\n",
    "# ['AESDD','CaFE','EmoDB','EMOVO','IEMOCAP','RAVDESS','ShEMO']\n",
    "datasets = ['RAVDESS']\n",
    "# ['GE2E','WAV2VEC2_BASE','WAV2VEC2_LARGE','WAV2VEC2_LARGE_XLSR','WAV2VEC2_LARGE_XLSR300M','HUBERT_BASE','HUBERT_LARGE']\n",
    "models = ['WAV2VEC2_BASE']\n",
    "\n",
    "# sbatch_header+=f'#SBATCH --cpus-per-task={len(runs)}\\n'\n",
    "# sbatch_header+=f'#SBATCH --mem={min(250,memory_required_per_task*len(runs))}GB\\n'\n",
    "\n",
    "sbatch_header+=f'#SBATCH --cpus-per-task=4\\n'\n",
    "sbatch_header+=f'#SBATCH --mem={memory_required_per_task}GB\\n'\n",
    "\n",
    "jobs = []\n",
    "for run in runs:\n",
    "    for dataset in datasets:\n",
    "        for model in models:            \n",
    "            # c = f'{command} -d {dataset} -m {model} -r '\n",
    "            # for run in runs: c+=f' {run}'\n",
    "            # jobs.append(c)\n",
    "            jobs.append(f'{command} -d {dataset} -fm {model} -r {run}')\n",
    "print(sorted([int(m.split('.')[0][3:]) for m in os.listdir('sbatch')])[-1]+1)"
   ]
  },
  {
   "attachments": {},
   "cell_type": "markdown",
   "metadata": {},
   "source": [
    "### Make SBATCH Files"
   ]
  },
  {
   "cell_type": "code",
   "execution_count": 105,
   "metadata": {},
   "outputs": [],
   "source": [
    "job_start_number = sorted([int(m.split('.')[0][3:]) for m in os.listdir('sbatch')])[-1]+1\n",
    "\n",
    "# Number of jobs per GPU\n",
    "jobs_per_gpu = 1\n",
    "# Make sbatch files\n",
    "for i,j in enumerate(range(0,len(jobs),jobs_per_gpu),job_start_number):\n",
    "    with open(os.path.join(jobs_dir,'job'+str(i)+'.sbatch'),'w') as file:\n",
    "        file.write(sbatch_header)\n",
    "        file.write(job_name_directive+str(i)+'\\n')\n",
    "        file.write(output_file_directive+str(i)+'.log\\n')\n",
    "        file.write(command_header)\n",
    "        for k in range(j,j+jobs_per_gpu):\n",
    "            jobs[k] += f' -jn Job{i}'\n",
    "            file.write(jobs[k])"
   ]
  },
  {
   "attachments": {},
   "cell_type": "markdown",
   "metadata": {},
   "source": [
    "### Make Schedule File"
   ]
  },
  {
   "cell_type": "code",
   "execution_count": 76,
   "metadata": {},
   "outputs": [],
   "source": [
    "# schedule_file = os.path.join(scripts_dir,'schedule_jobs.sh')\n",
    "# with open(schedule_file,'w') as file:\n",
    "#     file.write('#!/bin/bash\\n\\n')\n",
    "#     for k in range(job_start_number,len(jobs)+job_start_number):\n",
    "#         file.write('sbatch '+jobs_dir+'/job'+str(k)+'.sbatch\\n')\n",
    "# os.chmod(schedule_file, 0o740)"
   ]
  },
  {
   "cell_type": "code",
   "execution_count": 112,
   "metadata": {},
   "outputs": [],
   "source": [
    "to = sorted([int(m.split('.')[0][3:]) for m in os.listdir('sbatch')])[-1]\n",
    "from_ = sorted([int(m.split('.')[0][3:]) for m in os.listdir('sbatch')])[0]\n",
    "\n",
    "schedule_file = os.path.join(scripts_dir,'schedule_jobs.sh')\n",
    "with open(schedule_file,'w') as file:\n",
    "    file.write('#!/bin/bash\\n\\n')\n",
    "    for k in range(from_,to+1):\n",
    "        file.write('sbatch '+jobs_dir+'/job'+str(k)+'.sbatch\\n')\n",
    "os.chmod(schedule_file, 0o740)"
   ]
  },
  {
   "attachments": {},
   "cell_type": "markdown",
   "metadata": {},
   "source": [
    "### Make Cancel File"
   ]
  },
  {
   "cell_type": "code",
   "execution_count": 77,
   "metadata": {},
   "outputs": [],
   "source": [
    "# cancel_file = os.path.join(scripts_dir,'cancel_jobs.sh')\n",
    "# base_command = \"scancel $(sacct -n -X --format jobid --name\"\n",
    "# with open(cancel_file,'w') as file:\n",
    "#     file.write('#!/bin/bash\\n\\n')\n",
    "#     for k in range(job_start_number,len(jobs)+job_start_number):\n",
    "#         file.write(base_command+' Job'+str(k)+')\\n')\n",
    "# os.chmod(cancel_file, 0o740)"
   ]
  },
  {
   "cell_type": "code",
   "execution_count": 113,
   "metadata": {},
   "outputs": [],
   "source": [
    "to = sorted([int(m.split('.')[0][3:]) for m in os.listdir('sbatch')])[-1]\n",
    "from_ = sorted([int(m.split('.')[0][3:]) for m in os.listdir('sbatch')])[0]\n",
    "\n",
    "cancel_file = os.path.join(scripts_dir,'cancel_jobs.sh')\n",
    "base_command = \"scancel $(sacct -n -X --format jobid --name\"\n",
    "with open(cancel_file,'w') as file:\n",
    "    file.write('#!/bin/bash\\n\\n')\n",
    "    for k in range(from_,to+1):\n",
    "        file.write(base_command+' Job'+str(k)+')\\n')\n",
    "os.chmod(cancel_file, 0o740)"
   ]
  },
  {
   "attachments": {},
   "cell_type": "markdown",
   "metadata": {},
   "source": [
    "---"
   ]
  },
  {
   "cell_type": "markdown",
   "metadata": {},
   "source": [
    "### Launch Jobs"
   ]
  },
  {
   "cell_type": "code",
   "execution_count": 5,
   "metadata": {},
   "outputs": [
    {
     "name": "stdout",
     "output_type": "stream",
     "text": [
      "Submitted batch job 30659173\n",
      "Submitted batch job 30659174\n",
      "Submitted batch job 30659175\n",
      "Submitted batch job 30659176\n",
      "Submitted batch job 30659177\n",
      "Submitted batch job 30659178\n",
      "Submitted batch job 30659179\n",
      "Submitted batch job 30659180\n",
      "Submitted batch job 30659181\n",
      "Submitted batch job 30659182\n",
      "Submitted batch job 30659183\n",
      "Submitted batch job 30659184\n",
      "Submitted batch job 30659185\n",
      "Submitted batch job 30659186\n",
      "Submitted batch job 30659187\n",
      "Submitted batch job 30659188\n",
      "Submitted batch job 30659189\n",
      "Submitted batch job 30659190\n",
      "Submitted batch job 30659191\n",
      "Submitted batch job 30659192\n",
      "Submitted batch job 30659193\n",
      "Submitted batch job 30659194\n",
      "Submitted batch job 30659195\n",
      "Submitted batch job 30659196\n",
      "Submitted batch job 30659197\n",
      "Submitted batch job 30659198\n",
      "Submitted batch job 30659199\n",
      "Submitted batch job 30659200\n",
      "Submitted batch job 30659201\n",
      "Submitted batch job 30659202\n",
      "Submitted batch job 30659203\n",
      "Submitted batch job 30659204\n",
      "Submitted batch job 30659205\n",
      "Submitted batch job 30659206\n",
      "Submitted batch job 30659207\n",
      "Submitted batch job 30659208\n",
      "Submitted batch job 30659209\n",
      "Submitted batch job 30659210\n",
      "Submitted batch job 30659211\n",
      "Submitted batch job 30659212\n",
      "Submitted batch job 30659213\n",
      "Submitted batch job 30659214\n",
      "Submitted batch job 30659215\n",
      "Submitted batch job 30659216\n",
      "Submitted batch job 30659217\n",
      "Submitted batch job 30659218\n",
      "Submitted batch job 30659219\n",
      "Submitted batch job 30659220\n",
      "Submitted batch job 30659221\n",
      "Submitted batch job 30659222\n",
      "Submitted batch job 30659223\n",
      "Submitted batch job 30659224\n",
      "Submitted batch job 30659225\n",
      "Submitted batch job 30659226\n",
      "Submitted batch job 30659227\n",
      "Submitted batch job 30659228\n",
      "Submitted batch job 30659229\n",
      "Submitted batch job 30659230\n",
      "Submitted batch job 30659231\n",
      "Submitted batch job 30659232\n",
      "Submitted batch job 30659233\n",
      "Submitted batch job 30659234\n",
      "Submitted batch job 30659235\n",
      "Submitted batch job 30659236\n",
      "Submitted batch job 30659237\n",
      "Submitted batch job 30659238\n",
      "Submitted batch job 30659239\n",
      "Submitted batch job 30659240\n",
      "Submitted batch job 30659241\n",
      "Submitted batch job 30659242\n",
      "Submitted batch job 30659243\n",
      "Submitted batch job 30659244\n",
      "Submitted batch job 30659245\n",
      "Submitted batch job 30659246\n",
      "Submitted batch job 30659247\n",
      "Submitted batch job 30659248\n",
      "Submitted batch job 30659249\n",
      "Submitted batch job 30659250\n",
      "Submitted batch job 30659251\n",
      "Submitted batch job 30659252\n",
      "Submitted batch job 30659253\n",
      "Submitted batch job 30659254\n",
      "Submitted batch job 30659255\n",
      "Submitted batch job 30659256\n",
      "Submitted batch job 30659257\n",
      "Submitted batch job 30659258\n",
      "Submitted batch job 30659259\n",
      "Submitted batch job 30659260\n",
      "Submitted batch job 30659261\n",
      "Submitted batch job 30659262\n",
      "Submitted batch job 30659263\n",
      "Submitted batch job 30659264\n",
      "Submitted batch job 30659265\n",
      "Submitted batch job 30659266\n",
      "Submitted batch job 30659267\n",
      "Submitted batch job 30659268\n",
      "Submitted batch job 30659269\n",
      "Submitted batch job 30659270\n",
      "Submitted batch job 30659271\n",
      "Submitted batch job 30659272\n",
      "Submitted batch job 30659273\n",
      "Submitted batch job 30659274\n",
      "Submitted batch job 30659275\n",
      "Submitted batch job 30659276\n",
      "Submitted batch job 30659277\n",
      "Submitted batch job 30659278\n",
      "Submitted batch job 30659279\n",
      "Submitted batch job 30659280\n",
      "Submitted batch job 30659281\n",
      "Submitted batch job 30659282\n",
      "Submitted batch job 30659283\n",
      "Submitted batch job 30659284\n",
      "Submitted batch job 30659285\n",
      "Submitted batch job 30659286\n",
      "Submitted batch job 30659287\n",
      "Submitted batch job 30659288\n",
      "Submitted batch job 30659289\n",
      "Submitted batch job 30659290\n",
      "Submitted batch job 30659291\n",
      "Submitted batch job 30659292\n",
      "Submitted batch job 30659293\n",
      "Submitted batch job 30659294\n",
      "Submitted batch job 30659295\n",
      "Submitted batch job 30659296\n",
      "Submitted batch job 30659297\n",
      "Submitted batch job 30659298\n",
      "Submitted batch job 30659299\n",
      "Submitted batch job 30659300\n",
      "Submitted batch job 30659301\n",
      "Submitted batch job 30659302\n",
      "Submitted batch job 30659303\n",
      "Submitted batch job 30659304\n",
      "Submitted batch job 30659305\n",
      "Submitted batch job 30659306\n",
      "Submitted batch job 30659307\n",
      "Submitted batch job 30659308\n",
      "Submitted batch job 30659309\n",
      "Submitted batch job 30659310\n",
      "Submitted batch job 30659311\n",
      "Submitted batch job 30659312\n",
      "Submitted batch job 30659313\n",
      "Submitted batch job 30659314\n",
      "Submitted batch job 30659315\n",
      "Submitted batch job 30659316\n",
      "Submitted batch job 30659317\n",
      "Submitted batch job 30659318\n",
      "Submitted batch job 30659319\n",
      "Submitted batch job 30659320\n",
      "Submitted batch job 30659321\n",
      "Submitted batch job 30659322\n",
      "Submitted batch job 30659323\n",
      "Submitted batch job 30659324\n",
      "Submitted batch job 30659325\n",
      "Submitted batch job 30659326\n",
      "Submitted batch job 30659327\n",
      "Submitted batch job 30659328\n",
      "Submitted batch job 30659329\n"
     ]
    },
    {
     "data": {
      "text/plain": [
       "0"
      ]
     },
     "execution_count": 5,
     "metadata": {},
     "output_type": "execute_result"
    }
   ],
   "source": [
    "base_dir = '/home/as14229/NYU_HPC/Multilingual-Speech-Emotion-Recognition-System/jobs/'\n",
    "scripts_dir = os.path.join(base_dir,'scripts')\n",
    "schedule_file = os.path.join(scripts_dir,'schedule_jobs.sh')\n",
    "# os.system(f'rm -rf {logs_dir}/*')\n",
    "os.system(f'bash {schedule_file}')"
   ]
  },
  {
   "attachments": {},
   "cell_type": "markdown",
   "metadata": {},
   "source": [
    "### Cancel Jobs"
   ]
  },
  {
   "cell_type": "code",
   "execution_count": 4,
   "metadata": {},
   "outputs": [
    {
     "data": {
      "text/plain": [
       "0"
      ]
     },
     "execution_count": 4,
     "metadata": {},
     "output_type": "execute_result"
    }
   ],
   "source": [
    "base_dir = '/home/as14229/NYU_HPC/Multilingual-Speech-Emotion-Recognition-System/jobs/'\n",
    "scripts_dir = os.path.join(base_dir,'scripts')\n",
    "cancel_file = os.path.join(scripts_dir,'cancel_jobs.sh')\n",
    "os.system(f'bash {cancel_file}')"
   ]
  },
  {
   "attachments": {},
   "cell_type": "markdown",
   "metadata": {},
   "source": [
    "---"
   ]
  },
  {
   "attachments": {},
   "cell_type": "markdown",
   "metadata": {},
   "source": [
    "### Get Running Jobs"
   ]
  },
  {
   "cell_type": "code",
   "execution_count": 5,
   "metadata": {},
   "outputs": [
    {
     "name": "stdout",
     "output_type": "stream",
     "text": [
      "             JOBID PARTITION     NAME     USER ST       TIME  NODES NODELIST(REASON)\n"
     ]
    },
    {
     "data": {
      "text/plain": [
       "0"
      ]
     },
     "execution_count": 5,
     "metadata": {},
     "output_type": "execute_result"
    }
   ],
   "source": [
    "os.system('squeue -u $USER -t running')"
   ]
  },
  {
   "attachments": {},
   "cell_type": "markdown",
   "metadata": {},
   "source": [
    "### Get Pending Jobs"
   ]
  },
  {
   "cell_type": "code",
   "execution_count": 6,
   "metadata": {},
   "outputs": [
    {
     "name": "stdout",
     "output_type": "stream",
     "text": [
      "             JOBID PARTITION     NAME     USER ST       TIME  NODES NODELIST(REASON)\n",
      "          30659332 a100_1,a1     Job8  as14229 PD       0:00      1 (Priority)\n",
      "          30659329 a100_1,a1   Job157  as14229 PD       0:00      1 (Priority)\n",
      "          30659328 a100_1,a1   Job156  as14229 PD       0:00      1 (Priority)\n",
      "          30659327 a100_1,a1   Job155  as14229 PD       0:00      1 (Priority)\n",
      "          30659326 a100_1,a1   Job154  as14229 PD       0:00      1 (Priority)\n",
      "          30659325 a100_1,a1   Job153  as14229 PD       0:00      1 (Priority)\n",
      "          30659324 a100_1,a1   Job152  as14229 PD       0:00      1 (Priority)\n",
      "          30659323 a100_1,a1   Job151  as14229 PD       0:00      1 (Priority)\n",
      "          30659322 a100_1,a1   Job150  as14229 PD       0:00      1 (Priority)\n",
      "          30659321 a100_1,a1   Job149  as14229 PD       0:00      1 (Priority)\n",
      "          30659320 a100_1,a1   Job148  as14229 PD       0:00      1 (Priority)\n",
      "          30659319 a100_1,a1   Job147  as14229 PD       0:00      1 (Priority)\n",
      "          30659318 a100_1,a1   Job146  as14229 PD       0:00      1 (Priority)\n",
      "          30659317 a100_1,a1   Job145  as14229 PD       0:00      1 (Priority)\n",
      "          30659316 a100_1,a1   Job144  as14229 PD       0:00      1 (Priority)\n",
      "          30659315 a100_1,a1   Job143  as14229 PD       0:00      1 (Priority)\n",
      "          30659314 a100_1,a1   Job142  as14229 PD       0:00      1 (Priority)\n",
      "          30659313 a100_1,a1   Job141  as14229 PD       0:00      1 (Priority)\n",
      "          30659312 a100_1,a1   Job140  as14229 PD       0:00      1 (Priority)\n",
      "          30659311 a100_1,a1   Job139  as14229 PD       0:00      1 (Priority)\n",
      "          30659310 a100_1,a1   Job138  as14229 PD       0:00      1 (Priority)\n",
      "          30659309 a100_1,a1   Job137  as14229 PD       0:00      1 (Priority)\n",
      "          30659308 a100_1,a1   Job136  as14229 PD       0:00      1 (Priority)\n",
      "          30659307 a100_1,a1   Job135  as14229 PD       0:00      1 (Priority)\n",
      "          30659306 a100_1,a1   Job134  as14229 PD       0:00      1 (Priority)\n",
      "          30659305 a100_1,a1   Job133  as14229 PD       0:00      1 (Priority)\n",
      "          30659304 a100_1,a1   Job132  as14229 PD       0:00      1 (Priority)\n",
      "          30659303 a100_1,a1   Job131  as14229 PD       0:00      1 (Priority)\n",
      "          30659302 a100_1,a1   Job130  as14229 PD       0:00      1 (Priority)\n",
      "          30659301 a100_1,a1   Job129  as14229 PD       0:00      1 (Priority)\n",
      "          30659300 a100_1,a1   Job128  as14229 PD       0:00      1 (Priority)\n",
      "          30659299 a100_1,a1   Job127  as14229 PD       0:00      1 (Priority)\n",
      "          30659298 a100_1,a1   Job126  as14229 PD       0:00      1 (Priority)\n",
      "          30659297 a100_1,a1   Job125  as14229 PD       0:00      1 (Priority)\n",
      "          30659296 a100_1,a1   Job124  as14229 PD       0:00      1 (Priority)\n",
      "          30659295 a100_1,a1   Job123  as14229 PD       0:00      1 (Priority)\n",
      "          30659294 a100_1,a1   Job122  as14229 PD       0:00      1 (Priority)\n",
      "          30659293 a100_1,a1   Job121  as14229 PD       0:00      1 (Priority)\n",
      "          30659292 a100_1,a1   Job120  as14229 PD       0:00      1 (Priority)\n",
      "          30659291 a100_1,a1   Job119  as14229 PD       0:00      1 (Priority)\n",
      "          30659290 a100_1,a1   Job118  as14229 PD       0:00      1 (Priority)\n",
      "          30659289 a100_1,a1   Job117  as14229 PD       0:00      1 (Priority)\n",
      "          30659288 a100_1,a1   Job116  as14229 PD       0:00      1 (Priority)\n",
      "          30659287 a100_1,a1   Job115  as14229 PD       0:00      1 (Priority)\n",
      "          30659286 a100_1,a1   Job114  as14229 PD       0:00      1 (Priority)\n",
      "          30659285 a100_1,a1   Job113  as14229 PD       0:00      1 (Priority)\n",
      "          30659284 a100_1,a1   Job112  as14229 PD       0:00      1 (Priority)\n",
      "          30659283 a100_1,a1   Job111  as14229 PD       0:00      1 (Priority)\n",
      "          30659282 a100_1,a1   Job110  as14229 PD       0:00      1 (Priority)\n",
      "          30659281 a100_1,a1   Job109  as14229 PD       0:00      1 (Priority)\n",
      "          30659280 a100_1,a1   Job108  as14229 PD       0:00      1 (Priority)\n",
      "          30659279 a100_1,a1   Job107  as14229 PD       0:00      1 (Priority)\n",
      "          30659278 a100_1,a1   Job106  as14229 PD       0:00      1 (Priority)\n",
      "          30659277 a100_1,a1   Job105  as14229 PD       0:00      1 (Priority)\n",
      "          30659276 a100_1,a1   Job104  as14229 PD       0:00      1 (Priority)\n",
      "          30659275 a100_1,a1   Job103  as14229 PD       0:00      1 (Priority)\n",
      "          30659274 a100_1,a1   Job102  as14229 PD       0:00      1 (Priority)\n",
      "          30659273 a100_1,a1   Job101  as14229 PD       0:00      1 (Priority)\n",
      "          30659272 a100_1,a1   Job100  as14229 PD       0:00      1 (Priority)\n",
      "          30659271 a100_1,a1    Job99  as14229 PD       0:00      1 (Priority)\n",
      "          30659270 a100_1,a1    Job98  as14229 PD       0:00      1 (Priority)\n",
      "          30659269 a100_1,a1    Job97  as14229 PD       0:00      1 (Priority)\n",
      "          30659268 a100_1,a1    Job96  as14229 PD       0:00      1 (Priority)\n",
      "          30659267 a100_1,a1    Job95  as14229 PD       0:00      1 (Priority)\n",
      "          30659266 a100_1,a1    Job94  as14229 PD       0:00      1 (Priority)\n",
      "          30659265 a100_1,a1    Job93  as14229 PD       0:00      1 (Priority)\n",
      "          30659264 a100_1,a1    Job92  as14229 PD       0:00      1 (Priority)\n",
      "          30659263 a100_1,a1    Job91  as14229 PD       0:00      1 (Priority)\n",
      "          30659262 a100_1,a1    Job90  as14229 PD       0:00      1 (Priority)\n",
      "          30659261 a100_1,a1    Job89  as14229 PD       0:00      1 (Priority)\n",
      "          30659260 a100_1,a1    Job88  as14229 PD       0:00      1 (Priority)\n",
      "          30659259 a100_1,a1    Job87  as14229 PD       0:00      1 (Priority)\n",
      "          30659258 a100_1,a1    Job86  as14229 PD       0:00      1 (Priority)\n",
      "          30659257 a100_1,a1    Job85  as14229 PD       0:00      1 (Priority)\n",
      "          30659256 a100_1,a1    Job84  as14229 PD       0:00      1 (Priority)\n",
      "          30659255 a100_1,a1    Job83  as14229 PD       0:00      1 (Priority)\n",
      "          30659254 a100_1,a1    Job82  as14229 PD       0:00      1 (Priority)\n",
      "          30659253 a100_1,a1    Job81  as14229 PD       0:00      1 (Priority)\n",
      "          30659252 a100_1,a1    Job80  as14229 PD       0:00      1 (Priority)\n",
      "          30659251 a100_1,a1    Job79  as14229 PD       0:00      1 (Priority)\n",
      "          30659250 a100_1,a1    Job78  as14229 PD       0:00      1 (Priority)\n",
      "          30659249 a100_1,a1    Job77  as14229 PD       0:00      1 (Priority)\n",
      "          30659248 a100_1,a1    Job76  as14229 PD       0:00      1 (Priority)\n",
      "          30659247 a100_1,a1    Job75  as14229 PD       0:00      1 (Priority)\n",
      "          30659246 a100_1,a1    Job74  as14229 PD       0:00      1 (Priority)\n",
      "          30659245 a100_1,a1    Job73  as14229 PD       0:00      1 (Priority)\n",
      "          30659244 a100_1,a1    Job72  as14229 PD       0:00      1 (Priority)\n",
      "          30659243 a100_1,a1    Job71  as14229 PD       0:00      1 (Priority)\n",
      "          30659242 a100_1,a1    Job70  as14229 PD       0:00      1 (Priority)\n",
      "          30659241 a100_1,a1    Job69  as14229 PD       0:00      1 (Priority)\n",
      "          30659240 a100_1,a1    Job68  as14229 PD       0:00      1 (Priority)\n",
      "          30659239 a100_1,a1    Job67  as14229 PD       0:00      1 (Priority)\n",
      "          30659238 a100_1,a1    Job66  as14229 PD       0:00      1 (Priority)\n",
      "          30659237 a100_1,a1    Job65  as14229 PD       0:00      1 (Priority)\n",
      "          30659236 a100_1,a1    Job64  as14229 PD       0:00      1 (Priority)\n",
      "          30659235 a100_1,a1    Job63  as14229 PD       0:00      1 (Priority)\n",
      "          30659234 a100_1,a1    Job62  as14229 PD       0:00      1 (Priority)\n",
      "          30659233 a100_1,a1    Job61  as14229 PD       0:00      1 (Priority)\n",
      "          30659232 a100_1,a1    Job60  as14229 PD       0:00      1 (Priority)\n",
      "          30659231 a100_1,a1    Job59  as14229 PD       0:00      1 (Priority)\n",
      "          30659230 a100_1,a1    Job58  as14229 PD       0:00      1 (Priority)\n",
      "          30659229 a100_1,a1    Job57  as14229 PD       0:00      1 (Priority)\n",
      "          30659228 a100_1,a1    Job56  as14229 PD       0:00      1 (Priority)\n",
      "          30659227 a100_1,a1    Job55  as14229 PD       0:00      1 (Priority)\n",
      "          30659226 a100_1,a1    Job54  as14229 PD       0:00      1 (Priority)\n",
      "          30659225 a100_1,a1    Job53  as14229 PD       0:00      1 (Priority)\n",
      "          30659224 a100_1,a1    Job52  as14229 PD       0:00      1 (Priority)\n",
      "          30659223 a100_1,a1    Job51  as14229 PD       0:00      1 (Priority)\n",
      "          30659222 a100_1,a1    Job50  as14229 PD       0:00      1 (Priority)\n",
      "          30659221 a100_1,a1    Job49  as14229 PD       0:00      1 (Priority)\n",
      "          30659220 a100_1,a1    Job48  as14229 PD       0:00      1 (Priority)\n",
      "          30659219 a100_1,a1    Job47  as14229 PD       0:00      1 (Priority)\n",
      "          30659218 a100_1,a1    Job46  as14229 PD       0:00      1 (Priority)\n",
      "          30659217 a100_1,a1    Job45  as14229 PD       0:00      1 (Priority)\n",
      "          30659216 a100_1,a1    Job44  as14229 PD       0:00      1 (Priority)\n",
      "          30659215 a100_1,a1    Job43  as14229 PD       0:00      1 (Priority)\n",
      "          30659214 a100_1,a1    Job42  as14229 PD       0:00      1 (Priority)\n",
      "          30659213 a100_1,a1    Job41  as14229 PD       0:00      1 (Priority)\n",
      "          30659212 a100_1,a1    Job40  as14229 PD       0:00      1 (Priority)\n",
      "          30659211 a100_1,a1    Job39  as14229 PD       0:00      1 (Priority)\n",
      "          30659210 a100_1,a1    Job38  as14229 PD       0:00      1 (Priority)\n",
      "          30659209 a100_1,a1    Job37  as14229 PD       0:00      1 (Priority)\n",
      "          30659208 a100_1,a1    Job36  as14229 PD       0:00      1 (Priority)\n"
     ]
    },
    {
     "data": {
      "text/plain": [
       "0"
      ]
     },
     "execution_count": 6,
     "metadata": {},
     "output_type": "execute_result"
    }
   ],
   "source": [
    "os.system('squeue -u $USER -t pending')"
   ]
  },
  {
   "attachments": {},
   "cell_type": "markdown",
   "metadata": {},
   "source": [
    "---"
   ]
  },
  {
   "cell_type": "code",
   "execution_count": 6,
   "metadata": {},
   "outputs": [],
   "source": [
    "path = '/home/as14229/NYU_HPC/Multilingual-Speech-Emotion-Recognition-System/jobs/sbatch'\n",
    "jobs = [os.path.join(path,f) for f in os.listdir(path)]\n",
    "\n",
    "# for job in jobs:\n"
   ]
  },
  {
   "cell_type": "code",
   "execution_count": 9,
   "metadata": {},
   "outputs": [],
   "source": [
    "for job in jobs:\n",
    "    with open(job, 'r') as file:\n",
    "        # read a list of lines into data\n",
    "        data = file.readlines()\n",
    "    data[6]='#SBATCH --partition=a100_1,a100_2,rtx8000,v100\\n'\n",
    "    with open(job, 'w') as file:\n",
    "        file.writelines(data)"
   ]
  },
  {
   "cell_type": "code",
   "execution_count": 13,
   "metadata": {},
   "outputs": [],
   "source": [
    "mv_loc = '/home/as14229/NYU_HPC/Multilingual-Speech-Emotion-Recognition-System/jobs/sbatch/cancelled'\n",
    "for job in jobs:\n",
    "    with open(job, 'r') as file:\n",
    "        # read a list of lines into data\n",
    "        data = file.readlines()\n",
    "    if 'WAVLM' in data[-1] :\n",
    "        os.system(f'mv {job} {mv_loc}')\n",
    "\n",
    "# python main.py -ll debug -em gpu_memory -nw 2 -cm DENSE  -d IEMOCAP -m WAV2VEC2_BASE -r Run1 -jn Job1"
   ]
  },
  {
   "cell_type": "code",
   "execution_count": null,
   "metadata": {},
   "outputs": [],
   "source": [
    "jb = sorted([int(m.split('.')[0][3:]) for m in os.listdir('/home/as14229/NYU_HPC/Multilingual-Speech-Emotion-Recognition-System/jobs/sbatch')])\n",
    "for j in jb :\n",
    "    os.system(f'scancel $(sacct -n -X --format jobid --name Job{j})')\n",
    "    # print(f'Job{j}')"
   ]
  },
  {
   "cell_type": "code",
   "execution_count": null,
   "metadata": {},
   "outputs": [],
   "source": [
    "jb = sorted([int(m.split('.')[0][3:]) for m in os.listdir('/home/as14229/NYU_HPC/Multilingual-Speech-Emotion-Recognition-System/jobs/sbatch')])\n",
    "for j in jb :\n",
    "    os.system(f'sbatch /home/as14229/NYU_HPC/Multilingual-Speech-Emotion-Recognition-System/jobs/sbatch/job{j}.sbatch')\n",
    "    # print(f'Job{j}')"
   ]
  }
 ],
 "metadata": {
  "kernelspec": {
   "display_name": "MSERS",
   "language": "python",
   "name": "python3"
  },
  "language_info": {
   "codemirror_mode": {
    "name": "ipython",
    "version": 3
   },
   "file_extension": ".py",
   "mimetype": "text/x-python",
   "name": "python",
   "nbconvert_exporter": "python",
   "pygments_lexer": "ipython3",
   "version": "3.8.0"
  },
  "orig_nbformat": 4,
  "vscode": {
   "interpreter": {
    "hash": "edf93a12d1b5ae7990448df3fb6c693d48c5ca93c427a6f205fa1a1fadc791bd"
   }
  }
 },
 "nbformat": 4,
 "nbformat_minor": 2
}
