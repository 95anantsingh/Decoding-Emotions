{
 "cells": [
  {
   "attachments": {},
   "cell_type": "markdown",
   "metadata": {},
   "source": [
    "# History Summary"
   ]
  },
  {
   "cell_type": "code",
   "execution_count": 1,
   "metadata": {},
   "outputs": [],
   "source": [
    "import os\n",
    "import torch\n",
    "import numpy as np\n",
    "import pandas as pd"
   ]
  },
  {
   "attachments": {},
   "cell_type": "markdown",
   "metadata": {},
   "source": [
    "### Get all History File Paths"
   ]
  },
  {
   "cell_type": "code",
   "execution_count": 3,
   "metadata": {},
   "outputs": [
    {
     "data": {
      "text/html": [
       "<div>\n",
       "<style scoped>\n",
       "    .dataframe tbody tr th:only-of-type {\n",
       "        vertical-align: middle;\n",
       "    }\n",
       "\n",
       "    .dataframe tbody tr th {\n",
       "        vertical-align: top;\n",
       "    }\n",
       "\n",
       "    .dataframe thead th {\n",
       "        text-align: right;\n",
       "    }\n",
       "</style>\n",
       "<table border=\"1\" class=\"dataframe\">\n",
       "  <thead>\n",
       "    <tr style=\"text-align: right;\">\n",
       "      <th></th>\n",
       "      <th>version</th>\n",
       "      <th>dataset</th>\n",
       "      <th>fx_model</th>\n",
       "      <th>clf_model</th>\n",
       "      <th>run</th>\n",
       "      <th>path</th>\n",
       "    </tr>\n",
       "  </thead>\n",
       "  <tbody>\n",
       "    <tr>\n",
       "      <th>count</th>\n",
       "      <td>420</td>\n",
       "      <td>420</td>\n",
       "      <td>420</td>\n",
       "      <td>420</td>\n",
       "      <td>420</td>\n",
       "      <td>420</td>\n",
       "    </tr>\n",
       "    <tr>\n",
       "      <th>unique</th>\n",
       "      <td>2</td>\n",
       "      <td>7</td>\n",
       "      <td>6</td>\n",
       "      <td>2</td>\n",
       "      <td>5</td>\n",
       "      <td>420</td>\n",
       "    </tr>\n",
       "    <tr>\n",
       "      <th>top</th>\n",
       "      <td>v1.2</td>\n",
       "      <td>RAVDESS</td>\n",
       "      <td>WAV2VEC2_BASE</td>\n",
       "      <td>DENSE</td>\n",
       "      <td>Run1</td>\n",
       "      <td>./history/v1.2/RAVDESS/WAV2VEC2_BASE_DENSE/Run...</td>\n",
       "    </tr>\n",
       "    <tr>\n",
       "      <th>freq</th>\n",
       "      <td>210</td>\n",
       "      <td>60</td>\n",
       "      <td>70</td>\n",
       "      <td>210</td>\n",
       "      <td>84</td>\n",
       "      <td>1</td>\n",
       "    </tr>\n",
       "  </tbody>\n",
       "</table>\n",
       "</div>"
      ],
      "text/plain": [
       "       version  dataset       fx_model clf_model   run  \\\n",
       "count      420      420            420       420   420   \n",
       "unique       2        7              6         2     5   \n",
       "top       v1.2  RAVDESS  WAV2VEC2_BASE     DENSE  Run1   \n",
       "freq       210       60             70       210    84   \n",
       "\n",
       "                                                     path  \n",
       "count                                                 420  \n",
       "unique                                                420  \n",
       "top     ./history/v1.2/RAVDESS/WAV2VEC2_BASE_DENSE/Run...  \n",
       "freq                                                    1  "
      ]
     },
     "execution_count": 3,
     "metadata": {},
     "output_type": "execute_result"
    }
   ],
   "source": [
    "output_dir = './summary/'\n",
    "history_dir = './history/'\n",
    "\n",
    "versions, datasets, fx_models, clf_models, runs, paths = [], [], [], [], [], []\n",
    "\n",
    "for version in os.listdir(history_dir):\n",
    "    version_dir = os.path.join(history_dir,version)\n",
    "    for dataset in os.listdir(version_dir):\n",
    "        dataset_dir = os.path.join(version_dir,dataset)\n",
    "        for model in os.listdir(dataset_dir):\n",
    "            fx_model = '_'.join(model.split('_')[:-1])\n",
    "            clf_model = model.split('_')[-1]\n",
    "            model_dir = os.path.join(dataset_dir,model)\n",
    "            for run in os.listdir(model_dir):\n",
    "                path = os.path.join(model_dir,run,'history.pt')\n",
    "                if not os.path.isfile(path): continue\n",
    "                versions.append(version)\n",
    "                datasets.append(dataset)\n",
    "                fx_models.append(fx_model)\n",
    "                clf_models.append(clf_model)\n",
    "                runs.append(run)\n",
    "                paths.append(path)\n",
    "\n",
    "history_files = pd.DataFrame.from_dict(dict(version=versions,dataset=datasets,fx_model=fx_models,clf_model=clf_models,run=runs,path=paths))\n",
    "history_files.describe()"
   ]
  },
  {
   "attachments": {},
   "cell_type": "markdown",
   "metadata": {},
   "source": [
    "### Get by Classifier"
   ]
  },
  {
   "cell_type": "code",
   "execution_count": 4,
   "metadata": {},
   "outputs": [],
   "source": [
    "dense_history_files = history_files[history_files.clf_model=='DENSE']\n",
    "probing_history_files = history_files[history_files.clf_model=='PROBING']"
   ]
  },
  {
   "attachments": {},
   "cell_type": "markdown",
   "metadata": {},
   "source": [
    "#### DENSE"
   ]
  },
  {
   "cell_type": "code",
   "execution_count": 5,
   "metadata": {},
   "outputs": [],
   "source": [
    "mean_accs=[]\n",
    "std_accs = []\n",
    "models = []\n",
    "datasets =[]\n",
    "for model in dense_history_files.fx_model.unique():\n",
    "    for dataset in dense_history_files.dataset.unique():\n",
    "        run_df = dense_history_files[(dense_history_files.dataset==dataset) & (dense_history_files.fx_model==model)]\n",
    "        test_accs = []\n",
    "        for run in range(run_df.shape[0]):\n",
    "            history = torch.load(run_df.iloc[run].path)\n",
    "            test_accs.append(history['test_acc'][history['val_acc'].index(max(history['val_acc']))])\n",
    "        mean_accs.append(np.mean(test_accs))\n",
    "        std_accs.append(np.std(test_accs))\n",
    "        models.append(model)\n",
    "        datasets.append(dataset)\n",
    "\n",
    "dense_summary = pd.DataFrame.from_dict(dict(dataset=datasets,model=models,mean_accuracy=mean_accs,std_accuracy=std_accs))\n",
    "dense_summary.to_csv(os.path.join(output_dir,'dense_summary.csv'))"
   ]
  },
  {
   "attachments": {},
   "cell_type": "markdown",
   "metadata": {},
   "source": [
    "#### PROBING"
   ]
  },
  {
   "cell_type": "code",
   "execution_count": 6,
   "metadata": {},
   "outputs": [],
   "source": [
    "mean_accs=[]\n",
    "std_accs = []\n",
    "models = []\n",
    "datasets =[]\n",
    "for model in probing_history_files.fx_model.unique():\n",
    "    for dataset in probing_history_files.dataset.unique():\n",
    "        run_df = probing_history_files[(probing_history_files.dataset==dataset) & (probing_history_files.fx_model==model)]\n",
    "        test_accs = []\n",
    "        for run in range(run_df.shape[0]):\n",
    "            history = torch.load(run_df.iloc[run].path)\n",
    "            hs_idx = np.argmax(history['val_acc'],axis=0)\n",
    "            ts_acc = np.array(history['test_acc']).transpose()\n",
    "            test_accs.append([acc[idx] for acc, idx in zip (ts_acc,hs_idx)])\n",
    "\n",
    "        mean_accs.append(np.mean(test_accs,axis=0))\n",
    "        std_accs.append(np.std(test_accs,axis=0))\n",
    "        models.append(model)\n",
    "        datasets.append(dataset)\n",
    "\n",
    "probing_summary = pd.DataFrame.from_dict(dict(dataset=datasets,model=models,mean_accuracy=mean_accs,std_accuracy=std_accs))\n",
    "probing_summary.to_csv(os.path.join(output_dir,'probing_summary.csv'))"
   ]
  },
  {
   "cell_type": "code",
   "execution_count": null,
   "metadata": {},
   "outputs": [],
   "source": []
  }
 ],
 "metadata": {
  "kernelspec": {
   "display_name": "MSERS",
   "language": "python",
   "name": "python3"
  },
  "language_info": {
   "codemirror_mode": {
    "name": "ipython",
    "version": 3
   },
   "file_extension": ".py",
   "mimetype": "text/x-python",
   "name": "python",
   "nbconvert_exporter": "python",
   "pygments_lexer": "ipython3",
   "version": "3.8.0"
  },
  "orig_nbformat": 4
 },
 "nbformat": 4,
 "nbformat_minor": 2
}
